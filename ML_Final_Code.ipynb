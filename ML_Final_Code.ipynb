{
 "cells": [
  {
   "cell_type": "markdown",
   "id": "3d47e4db",
   "metadata": {},
   "source": [
    "# Machine Learning Code"
   ]
  },
  {
   "cell_type": "code",
   "execution_count": 2,
   "id": "423840f6-43cf-4009-b5ba-708577cc52c4",
   "metadata": {},
   "outputs": [],
   "source": [
    "# In order to start we need to Load in some Packages"
   ]
  },
  {
   "cell_type": "code",
   "execution_count": 1,
   "id": "50ce20d7-dc9f-419b-a4c6-5431aabd55c5",
   "metadata": {},
   "outputs": [],
   "source": [
    "from packaging import version\n",
    "import sklearn\n",
    "import matplotlib.pyplot as plt\n",
    "\n",
    "from pathlib import Path\n",
    "import pandas as pd\n",
    "import numpy as np\n",
    "from sklearn.linear_model import LinearRegression\n",
    "from sklearn.impute import SimpleImputer  # Import the imputer"
   ]
  },
  {
   "cell_type": "code",
   "execution_count": 2,
   "id": "93b662ce-5521-4fa8-9868-dd7e969d8a7c",
   "metadata": {},
   "outputs": [],
   "source": [
    "# Now, we can load the data set so that we can explore all the features."
   ]
  },
  {
   "cell_type": "code",
   "execution_count": 3,
   "id": "befa02f4-4356-4c07-8a8d-890e4eea4cd1",
   "metadata": {},
   "outputs": [],
   "source": [
    "# We want to split the data set before we begin. A random sampling will suffice. \n",
    "\n",
    "total_set = pd.read_csv(\"train.csv\", nrows = 70000)"
   ]
  },
  {
   "cell_type": "code",
   "execution_count": 4,
   "id": "6ada5fdd",
   "metadata": {},
   "outputs": [
    {
     "name": "stdout",
     "output_type": "stream",
     "text": [
      "<class 'pandas.core.frame.DataFrame'>\n",
      "RangeIndex: 70000 entries, 0 to 69999\n",
      "Data columns (total 8 columns):\n",
      " #   Column             Non-Null Count  Dtype  \n",
      "---  ------             --------------  -----  \n",
      " 0   key                70000 non-null  object \n",
      " 1   fare_amount        70000 non-null  float64\n",
      " 2   pickup_datetime    70000 non-null  object \n",
      " 3   pickup_longitude   70000 non-null  float64\n",
      " 4   pickup_latitude    70000 non-null  float64\n",
      " 5   dropoff_longitude  70000 non-null  float64\n",
      " 6   dropoff_latitude   70000 non-null  float64\n",
      " 7   passenger_count    70000 non-null  int64  \n",
      "dtypes: float64(5), int64(1), object(2)\n",
      "memory usage: 4.3+ MB\n"
     ]
    }
   ],
   "source": [
    "total_set.info()"
   ]
  },
  {
   "cell_type": "code",
   "execution_count": 5,
   "id": "e8b8b4e6",
   "metadata": {},
   "outputs": [],
   "source": [
    "# Now we spliting the training and test data set\n",
    "\n",
    "from sklearn.model_selection import train_test_split\n",
    "\n",
    "taxi_train, taxi_test = train_test_split(total_set, test_size = .2, random_state = 42)\n"
   ]
  },
  {
   "cell_type": "code",
   "execution_count": 6,
   "id": "a13fda0f-3403-412c-8de6-8f7febe87a98",
   "metadata": {},
   "outputs": [],
   "source": [
    "# Now we have to explore the data set"
   ]
  },
  {
   "cell_type": "code",
   "execution_count": 7,
   "id": "f4070073",
   "metadata": {
    "scrolled": true
   },
   "outputs": [
    {
     "data": {
      "text/html": [
       "<div>\n",
       "<style scoped>\n",
       "    .dataframe tbody tr th:only-of-type {\n",
       "        vertical-align: middle;\n",
       "    }\n",
       "\n",
       "    .dataframe tbody tr th {\n",
       "        vertical-align: top;\n",
       "    }\n",
       "\n",
       "    .dataframe thead th {\n",
       "        text-align: right;\n",
       "    }\n",
       "</style>\n",
       "<table border=\"1\" class=\"dataframe\">\n",
       "  <thead>\n",
       "    <tr style=\"text-align: right;\">\n",
       "      <th></th>\n",
       "      <th>key</th>\n",
       "      <th>fare_amount</th>\n",
       "      <th>pickup_datetime</th>\n",
       "      <th>pickup_longitude</th>\n",
       "      <th>pickup_latitude</th>\n",
       "      <th>dropoff_longitude</th>\n",
       "      <th>dropoff_latitude</th>\n",
       "      <th>passenger_count</th>\n",
       "    </tr>\n",
       "  </thead>\n",
       "  <tbody>\n",
       "    <tr>\n",
       "      <th>47339</th>\n",
       "      <td>2011-02-23 14:41:00.000000126</td>\n",
       "      <td>6.5</td>\n",
       "      <td>2011-02-23 14:41:00 UTC</td>\n",
       "      <td>-73.976247</td>\n",
       "      <td>40.748368</td>\n",
       "      <td>-73.975468</td>\n",
       "      <td>40.755270</td>\n",
       "      <td>3</td>\n",
       "    </tr>\n",
       "    <tr>\n",
       "      <th>67456</th>\n",
       "      <td>2009-02-09 01:29:58.0000001</td>\n",
       "      <td>5.4</td>\n",
       "      <td>2009-02-09 01:29:58 UTC</td>\n",
       "      <td>-74.002251</td>\n",
       "      <td>40.734537</td>\n",
       "      <td>-74.000881</td>\n",
       "      <td>40.742227</td>\n",
       "      <td>1</td>\n",
       "    </tr>\n",
       "    <tr>\n",
       "      <th>12308</th>\n",
       "      <td>2011-02-13 18:51:08.0000003</td>\n",
       "      <td>8.5</td>\n",
       "      <td>2011-02-13 18:51:08 UTC</td>\n",
       "      <td>-73.980800</td>\n",
       "      <td>40.769752</td>\n",
       "      <td>-73.979122</td>\n",
       "      <td>40.752011</td>\n",
       "      <td>1</td>\n",
       "    </tr>\n",
       "    <tr>\n",
       "      <th>32557</th>\n",
       "      <td>2010-09-30 15:04:22.0000004</td>\n",
       "      <td>10.1</td>\n",
       "      <td>2010-09-30 15:04:22 UTC</td>\n",
       "      <td>-74.008113</td>\n",
       "      <td>40.731087</td>\n",
       "      <td>-73.977977</td>\n",
       "      <td>40.752144</td>\n",
       "      <td>1</td>\n",
       "    </tr>\n",
       "    <tr>\n",
       "      <th>664</th>\n",
       "      <td>2014-10-07 15:02:06.0000003</td>\n",
       "      <td>24.5</td>\n",
       "      <td>2014-10-07 15:02:06 UTC</td>\n",
       "      <td>-73.979269</td>\n",
       "      <td>40.761886</td>\n",
       "      <td>-74.002076</td>\n",
       "      <td>40.724702</td>\n",
       "      <td>1</td>\n",
       "    </tr>\n",
       "  </tbody>\n",
       "</table>\n",
       "</div>"
      ],
      "text/plain": [
       "                                 key  fare_amount          pickup_datetime  \\\n",
       "47339  2011-02-23 14:41:00.000000126          6.5  2011-02-23 14:41:00 UTC   \n",
       "67456    2009-02-09 01:29:58.0000001          5.4  2009-02-09 01:29:58 UTC   \n",
       "12308    2011-02-13 18:51:08.0000003          8.5  2011-02-13 18:51:08 UTC   \n",
       "32557    2010-09-30 15:04:22.0000004         10.1  2010-09-30 15:04:22 UTC   \n",
       "664      2014-10-07 15:02:06.0000003         24.5  2014-10-07 15:02:06 UTC   \n",
       "\n",
       "       pickup_longitude  pickup_latitude  dropoff_longitude  dropoff_latitude  \\\n",
       "47339        -73.976247        40.748368         -73.975468         40.755270   \n",
       "67456        -74.002251        40.734537         -74.000881         40.742227   \n",
       "12308        -73.980800        40.769752         -73.979122         40.752011   \n",
       "32557        -74.008113        40.731087         -73.977977         40.752144   \n",
       "664          -73.979269        40.761886         -74.002076         40.724702   \n",
       "\n",
       "       passenger_count  \n",
       "47339                3  \n",
       "67456                1  \n",
       "12308                1  \n",
       "32557                1  \n",
       "664                  1  "
      ]
     },
     "execution_count": 7,
     "metadata": {},
     "output_type": "execute_result"
    }
   ],
   "source": [
    "taxi_train.head()"
   ]
  },
  {
   "cell_type": "code",
   "execution_count": 8,
   "id": "dc89901b",
   "metadata": {},
   "outputs": [
    {
     "name": "stdout",
     "output_type": "stream",
     "text": [
      "<class 'pandas.core.frame.DataFrame'>\n",
      "Int64Index: 56000 entries, 47339 to 15795\n",
      "Data columns (total 8 columns):\n",
      " #   Column             Non-Null Count  Dtype  \n",
      "---  ------             --------------  -----  \n",
      " 0   key                56000 non-null  object \n",
      " 1   fare_amount        56000 non-null  float64\n",
      " 2   pickup_datetime    56000 non-null  object \n",
      " 3   pickup_longitude   56000 non-null  float64\n",
      " 4   pickup_latitude    56000 non-null  float64\n",
      " 5   dropoff_longitude  56000 non-null  float64\n",
      " 6   dropoff_latitude   56000 non-null  float64\n",
      " 7   passenger_count    56000 non-null  int64  \n",
      "dtypes: float64(5), int64(1), object(2)\n",
      "memory usage: 3.8+ MB\n"
     ]
    }
   ],
   "source": [
    "# A better way to get an idea of what is happening in the data set\n",
    "\n",
    "taxi_train.info()"
   ]
  },
  {
   "cell_type": "code",
   "execution_count": 9,
   "id": "5b3e5179",
   "metadata": {},
   "outputs": [
    {
     "data": {
      "text/plain": [
       "Text(0.5, 1.0, 'Instances per Fare Amount, in Dollars')"
      ]
     },
     "execution_count": 9,
     "metadata": {},
     "output_type": "execute_result"
    },
    {
     "data": {
      "image/png": "[encoded data removed]",
      "text/plain": [
       "<Figure size 720x216 with 1 Axes>"
      ]
     },
     "metadata": {
      "needs_background": "light"
     },
     "output_type": "display_data"
    }
   ],
   "source": [
    "# From the above command we see that we have two object type attributes,\n",
    "# one integer attribute, and five float type attributes.\n",
    "\n",
    "# We can have a better understanding of the scales of the different attributes\n",
    "# By visualizing them\n",
    "\n",
    "taxi_train[taxi_train.fare_amount <60].fare_amount.hist(bins = 100,\n",
    "                                                         figsize = (10,3))\n",
    "\n",
    "plt.xlabel(\"Fare Amount\")\n",
    "plt.title(\"Instances per Fare Amount, in Dollars\")"
   ]
  },
  {
   "cell_type": "code",
   "execution_count": 10,
   "id": "97638a82",
   "metadata": {},
   "outputs": [],
   "source": [
    "# From afar it seems like most of the fare amounts are between \n",
    "# 0 and 20 Dollars, this is something that we can take into consideration when scaling "
   ]
  },
  {
   "cell_type": "code",
   "execution_count": 11,
   "id": "f62bd947",
   "metadata": {},
   "outputs": [
    {
     "data": {
      "text/plain": [
       "Text(0.5, 1.0, 'Instances per Passenger Number')"
      ]
     },
     "execution_count": 11,
     "metadata": {},
     "output_type": "execute_result"
    },
    {
     "data": {
      "image/png": "[encoded data removed]",
      "text/plain": [
       "<Figure size 1080x288 with 1 Axes>"
      ]
     },
     "metadata": {
      "needs_background": "light"
     },
     "output_type": "display_data"
    }
   ],
   "source": [
    "# Lets also take a look at the passenger count\n",
    "\n",
    "taxi_train[taxi_train.passenger_count <20].fare_amount.hist(bins = 20,\n",
    "                                                         figsize = (15,4))\n",
    "\n",
    "plt.xlabel(\"Passenger Count\")\n",
    "plt.title(\"Instances per Passenger Number\")"
   ]
  },
  {
   "cell_type": "code",
   "execution_count": 12,
   "id": "8658ce17",
   "metadata": {},
   "outputs": [
    {
     "data": {
      "text/plain": [
       "array([[  6.5     , -73.976247,  40.748368, -73.975468,  40.75527 ,\n",
       "          3.      ],\n",
       "       [  5.4     , -74.002251,  40.734537, -74.000881,  40.742227,\n",
       "          1.      ],\n",
       "       [  8.5     , -73.9808  ,  40.769752, -73.979122,  40.752011,\n",
       "          1.      ],\n",
       "       ...,\n",
       "       [ 24.67    , -73.864515,  40.770517, -73.97892 ,  40.746717,\n",
       "          1.      ],\n",
       "       [ 12.1     , -73.987243,  40.72241 , -73.97162 ,  40.76199 ,\n",
       "          1.      ],\n",
       "       [ 57.33    , -73.778682,  40.646662, -73.99368 ,  40.752352,\n",
       "          1.      ]])"
      ]
     },
     "execution_count": 12,
     "metadata": {},
     "output_type": "execute_result"
    }
   ],
   "source": [
    "# Impute missing values with the mean for Taxi Fare column\n",
    "\n",
    "taxidf = taxi_train\n",
    "\n",
    "imputer = SimpleImputer(strategy=\"mean\")\n",
    "\n",
    "taxi_num = taxidf.select_dtypes(include = [np.number])\n",
    "\n",
    "imputer.fit(taxi_num)\n",
    "\n",
    "imputer.transform(taxi_num)"
   ]
  },
  {
   "cell_type": "code",
   "execution_count": 13,
   "id": "cc869ba6",
   "metadata": {},
   "outputs": [
    {
     "data": {
      "text/html": [
       "<div>\n",
       "<style scoped>\n",
       "    .dataframe tbody tr th:only-of-type {\n",
       "        vertical-align: middle;\n",
       "    }\n",
       "\n",
       "    .dataframe tbody tr th {\n",
       "        vertical-align: top;\n",
       "    }\n",
       "\n",
       "    .dataframe thead th {\n",
       "        text-align: right;\n",
       "    }\n",
       "</style>\n",
       "<table border=\"1\" class=\"dataframe\">\n",
       "  <thead>\n",
       "    <tr style=\"text-align: right;\">\n",
       "      <th></th>\n",
       "      <th>fare_amount</th>\n",
       "      <th>pickup_longitude</th>\n",
       "      <th>pickup_latitude</th>\n",
       "      <th>dropoff_longitude</th>\n",
       "      <th>dropoff_latitude</th>\n",
       "      <th>passenger_count</th>\n",
       "    </tr>\n",
       "  </thead>\n",
       "  <tbody>\n",
       "    <tr>\n",
       "      <th>46730</th>\n",
       "      <td>3.7</td>\n",
       "      <td>-73.994243</td>\n",
       "      <td>40.735303</td>\n",
       "      <td>-73.988808</td>\n",
       "      <td>40.732228</td>\n",
       "      <td>1</td>\n",
       "    </tr>\n",
       "    <tr>\n",
       "      <th>48393</th>\n",
       "      <td>9.0</td>\n",
       "      <td>-73.977021</td>\n",
       "      <td>40.733796</td>\n",
       "      <td>-73.974926</td>\n",
       "      <td>40.755554</td>\n",
       "      <td>1</td>\n",
       "    </tr>\n",
       "    <tr>\n",
       "      <th>41416</th>\n",
       "      <td>11.5</td>\n",
       "      <td>-73.973595</td>\n",
       "      <td>40.747768</td>\n",
       "      <td>-74.003029</td>\n",
       "      <td>40.734894</td>\n",
       "      <td>5</td>\n",
       "    </tr>\n",
       "    <tr>\n",
       "      <th>34506</th>\n",
       "      <td>5.7</td>\n",
       "      <td>-73.982262</td>\n",
       "      <td>40.771324</td>\n",
       "      <td>-73.976965</td>\n",
       "      <td>40.764190</td>\n",
       "      <td>1</td>\n",
       "    </tr>\n",
       "    <tr>\n",
       "      <th>43725</th>\n",
       "      <td>5.5</td>\n",
       "      <td>-73.991703</td>\n",
       "      <td>40.729982</td>\n",
       "      <td>-73.984545</td>\n",
       "      <td>40.724933</td>\n",
       "      <td>1</td>\n",
       "    </tr>\n",
       "    <tr>\n",
       "      <th>...</th>\n",
       "      <td>...</td>\n",
       "      <td>...</td>\n",
       "      <td>...</td>\n",
       "      <td>...</td>\n",
       "      <td>...</td>\n",
       "      <td>...</td>\n",
       "    </tr>\n",
       "    <tr>\n",
       "      <th>21525</th>\n",
       "      <td>6.0</td>\n",
       "      <td>-73.978020</td>\n",
       "      <td>40.749733</td>\n",
       "      <td>-73.986198</td>\n",
       "      <td>40.737587</td>\n",
       "      <td>1</td>\n",
       "    </tr>\n",
       "    <tr>\n",
       "      <th>16276</th>\n",
       "      <td>9.3</td>\n",
       "      <td>-73.964857</td>\n",
       "      <td>40.807431</td>\n",
       "      <td>-73.970260</td>\n",
       "      <td>40.784292</td>\n",
       "      <td>1</td>\n",
       "    </tr>\n",
       "    <tr>\n",
       "      <th>24390</th>\n",
       "      <td>11.5</td>\n",
       "      <td>-73.980644</td>\n",
       "      <td>40.783176</td>\n",
       "      <td>-73.958687</td>\n",
       "      <td>40.781643</td>\n",
       "      <td>1</td>\n",
       "    </tr>\n",
       "    <tr>\n",
       "      <th>28061</th>\n",
       "      <td>18.5</td>\n",
       "      <td>-73.955368</td>\n",
       "      <td>40.714149</td>\n",
       "      <td>-73.983727</td>\n",
       "      <td>40.680401</td>\n",
       "      <td>5</td>\n",
       "    </tr>\n",
       "    <tr>\n",
       "      <th>63452</th>\n",
       "      <td>14.9</td>\n",
       "      <td>-73.986291</td>\n",
       "      <td>40.762323</td>\n",
       "      <td>-74.015789</td>\n",
       "      <td>40.714459</td>\n",
       "      <td>1</td>\n",
       "    </tr>\n",
       "  </tbody>\n",
       "</table>\n",
       "<p>14000 rows × 6 columns</p>\n",
       "</div>"
      ],
      "text/plain": [
       "       fare_amount  pickup_longitude  pickup_latitude  dropoff_longitude  \\\n",
       "46730          3.7        -73.994243        40.735303         -73.988808   \n",
       "48393          9.0        -73.977021        40.733796         -73.974926   \n",
       "41416         11.5        -73.973595        40.747768         -74.003029   \n",
       "34506          5.7        -73.982262        40.771324         -73.976965   \n",
       "43725          5.5        -73.991703        40.729982         -73.984545   \n",
       "...            ...               ...              ...                ...   \n",
       "21525          6.0        -73.978020        40.749733         -73.986198   \n",
       "16276          9.3        -73.964857        40.807431         -73.970260   \n",
       "24390         11.5        -73.980644        40.783176         -73.958687   \n",
       "28061         18.5        -73.955368        40.714149         -73.983727   \n",
       "63452         14.9        -73.986291        40.762323         -74.015789   \n",
       "\n",
       "       dropoff_latitude  passenger_count  \n",
       "46730         40.732228                1  \n",
       "48393         40.755554                1  \n",
       "41416         40.734894                5  \n",
       "34506         40.764190                1  \n",
       "43725         40.724933                1  \n",
       "...                 ...              ...  \n",
       "21525         40.737587                1  \n",
       "16276         40.784292                1  \n",
       "24390         40.781643                1  \n",
       "28061         40.680401                5  \n",
       "63452         40.714459                1  \n",
       "\n",
       "[14000 rows x 6 columns]"
      ]
     },
     "execution_count": 13,
     "metadata": {},
     "output_type": "execute_result"
    }
   ],
   "source": [
    "from sklearn.pipeline import Pipeline\n",
    "from sklearn.preprocessing import StandardScaler\n",
    "\n",
    "taxi_num_pipeline = Pipeline([\n",
    "    (\"imputer\", SimpleImputer(strategy = \"median\")),\n",
    "    (\"standardizer\", StandardScaler())\n",
    "])\n",
    "\n",
    "# We can apply the same transformation as above using\n",
    "# a pipeline to make things more efficient\n",
    "\n",
    "# Note: Have to keep things even between training and test and training\n",
    "\n",
    "taxitestdf = taxi_test\n",
    "\n",
    "taxi_num_test = taxitestdf.select_dtypes(include = [np.number])\n",
    "\n",
    "imputer.fit(taxi_num_test)\n",
    "\n",
    "imputer.transform(taxi_num_test)\n",
    "\n",
    "taxi_num_test"
   ]
  },
  {
   "cell_type": "code",
   "execution_count": 14,
   "id": "f1646359",
   "metadata": {},
   "outputs": [
    {
     "name": "stdout",
     "output_type": "stream",
     "text": [
      "Imputed Taxi Train Data:\n",
      "       fare_amount  pickup_longitude  pickup_latitude  dropoff_longitude  \\\n",
      "47339          6.5        -73.976247        40.748368         -73.975468   \n",
      "67456          5.4        -74.002251        40.734537         -74.000881   \n",
      "12308          8.5        -73.980800        40.769752         -73.979122   \n",
      "32557         10.1        -74.008113        40.731087         -73.977977   \n",
      "664           24.5        -73.979269        40.761886         -74.002076   \n",
      "\n",
      "       dropoff_latitude  passenger_count  \n",
      "47339         40.755270                3  \n",
      "67456         40.742227                1  \n",
      "12308         40.752011                1  \n",
      "32557         40.752144                1  \n",
      "664           40.724702                1  \n"
     ]
    }
   ],
   "source": [
    "# Display the first few rows of the DataFrame after imputation\n",
    "print(\"Imputed Taxi Train Data:\")\n",
    "print(taxi_num.head())"
   ]
  },
  {
   "cell_type": "code",
   "execution_count": 15,
   "id": "d0fba817",
   "metadata": {},
   "outputs": [
    {
     "data": {
      "text/html": [
       "<div>\n",
       "<style scoped>\n",
       "    .dataframe tbody tr th:only-of-type {\n",
       "        vertical-align: middle;\n",
       "    }\n",
       "\n",
       "    .dataframe tbody tr th {\n",
       "        vertical-align: top;\n",
       "    }\n",
       "\n",
       "    .dataframe thead th {\n",
       "        text-align: right;\n",
       "    }\n",
       "</style>\n",
       "<table border=\"1\" class=\"dataframe\">\n",
       "  <thead>\n",
       "    <tr style=\"text-align: right;\">\n",
       "      <th></th>\n",
       "      <th>fare_amount</th>\n",
       "      <th>pickup_longitude</th>\n",
       "      <th>pickup_latitude</th>\n",
       "      <th>dropoff_longitude</th>\n",
       "      <th>dropoff_latitude</th>\n",
       "      <th>passenger_count</th>\n",
       "    </tr>\n",
       "  </thead>\n",
       "  <tbody>\n",
       "    <tr>\n",
       "      <th>47339</th>\n",
       "      <td>6.50</td>\n",
       "      <td>-73.976247</td>\n",
       "      <td>40.748368</td>\n",
       "      <td>-73.975468</td>\n",
       "      <td>40.755270</td>\n",
       "      <td>3</td>\n",
       "    </tr>\n",
       "    <tr>\n",
       "      <th>67456</th>\n",
       "      <td>5.40</td>\n",
       "      <td>-74.002251</td>\n",
       "      <td>40.734537</td>\n",
       "      <td>-74.000881</td>\n",
       "      <td>40.742227</td>\n",
       "      <td>1</td>\n",
       "    </tr>\n",
       "    <tr>\n",
       "      <th>12308</th>\n",
       "      <td>8.50</td>\n",
       "      <td>-73.980800</td>\n",
       "      <td>40.769752</td>\n",
       "      <td>-73.979122</td>\n",
       "      <td>40.752011</td>\n",
       "      <td>1</td>\n",
       "    </tr>\n",
       "    <tr>\n",
       "      <th>32557</th>\n",
       "      <td>10.10</td>\n",
       "      <td>-74.008113</td>\n",
       "      <td>40.731087</td>\n",
       "      <td>-73.977977</td>\n",
       "      <td>40.752144</td>\n",
       "      <td>1</td>\n",
       "    </tr>\n",
       "    <tr>\n",
       "      <th>664</th>\n",
       "      <td>24.50</td>\n",
       "      <td>-73.979269</td>\n",
       "      <td>40.761886</td>\n",
       "      <td>-74.002076</td>\n",
       "      <td>40.724702</td>\n",
       "      <td>1</td>\n",
       "    </tr>\n",
       "    <tr>\n",
       "      <th>...</th>\n",
       "      <td>...</td>\n",
       "      <td>...</td>\n",
       "      <td>...</td>\n",
       "      <td>...</td>\n",
       "      <td>...</td>\n",
       "      <td>...</td>\n",
       "    </tr>\n",
       "    <tr>\n",
       "      <th>37194</th>\n",
       "      <td>8.10</td>\n",
       "      <td>-73.992161</td>\n",
       "      <td>40.738266</td>\n",
       "      <td>-73.975432</td>\n",
       "      <td>40.754604</td>\n",
       "      <td>1</td>\n",
       "    </tr>\n",
       "    <tr>\n",
       "      <th>6265</th>\n",
       "      <td>16.10</td>\n",
       "      <td>-73.971785</td>\n",
       "      <td>40.756499</td>\n",
       "      <td>-74.013319</td>\n",
       "      <td>40.709354</td>\n",
       "      <td>4</td>\n",
       "    </tr>\n",
       "    <tr>\n",
       "      <th>54886</th>\n",
       "      <td>24.67</td>\n",
       "      <td>-73.864515</td>\n",
       "      <td>40.770517</td>\n",
       "      <td>-73.978920</td>\n",
       "      <td>40.746717</td>\n",
       "      <td>1</td>\n",
       "    </tr>\n",
       "    <tr>\n",
       "      <th>860</th>\n",
       "      <td>12.10</td>\n",
       "      <td>-73.987243</td>\n",
       "      <td>40.722410</td>\n",
       "      <td>-73.971620</td>\n",
       "      <td>40.761990</td>\n",
       "      <td>1</td>\n",
       "    </tr>\n",
       "    <tr>\n",
       "      <th>15795</th>\n",
       "      <td>57.33</td>\n",
       "      <td>-73.778682</td>\n",
       "      <td>40.646662</td>\n",
       "      <td>-73.993680</td>\n",
       "      <td>40.752352</td>\n",
       "      <td>1</td>\n",
       "    </tr>\n",
       "  </tbody>\n",
       "</table>\n",
       "<p>56000 rows × 6 columns</p>\n",
       "</div>"
      ],
      "text/plain": [
       "       fare_amount  pickup_longitude  pickup_latitude  dropoff_longitude  \\\n",
       "47339         6.50        -73.976247        40.748368         -73.975468   \n",
       "67456         5.40        -74.002251        40.734537         -74.000881   \n",
       "12308         8.50        -73.980800        40.769752         -73.979122   \n",
       "32557        10.10        -74.008113        40.731087         -73.977977   \n",
       "664          24.50        -73.979269        40.761886         -74.002076   \n",
       "...            ...               ...              ...                ...   \n",
       "37194         8.10        -73.992161        40.738266         -73.975432   \n",
       "6265         16.10        -73.971785        40.756499         -74.013319   \n",
       "54886        24.67        -73.864515        40.770517         -73.978920   \n",
       "860          12.10        -73.987243        40.722410         -73.971620   \n",
       "15795        57.33        -73.778682        40.646662         -73.993680   \n",
       "\n",
       "       dropoff_latitude  passenger_count  \n",
       "47339         40.755270                3  \n",
       "67456         40.742227                1  \n",
       "12308         40.752011                1  \n",
       "32557         40.752144                1  \n",
       "664           40.724702                1  \n",
       "...                 ...              ...  \n",
       "37194         40.754604                1  \n",
       "6265          40.709354                4  \n",
       "54886         40.746717                1  \n",
       "860           40.761990                1  \n",
       "15795         40.752352                1  \n",
       "\n",
       "[56000 rows x 6 columns]"
      ]
     },
     "execution_count": 15,
     "metadata": {},
     "output_type": "execute_result"
    }
   ],
   "source": [
    "# To get a better look\n",
    "\n",
    "taxi_num"
   ]
  },
  {
   "cell_type": "code",
   "execution_count": 16,
   "id": "ff611537",
   "metadata": {},
   "outputs": [
    {
     "name": "stdout",
     "output_type": "stream",
     "text": [
      "Imputed Taxi Train Info:\n",
      "<class 'pandas.core.frame.DataFrame'>\n",
      "Int64Index: 56000 entries, 47339 to 15795\n",
      "Data columns (total 6 columns):\n",
      " #   Column             Non-Null Count  Dtype  \n",
      "---  ------             --------------  -----  \n",
      " 0   fare_amount        56000 non-null  float64\n",
      " 1   pickup_longitude   56000 non-null  float64\n",
      " 2   pickup_latitude    56000 non-null  float64\n",
      " 3   dropoff_longitude  56000 non-null  float64\n",
      " 4   dropoff_latitude   56000 non-null  float64\n",
      " 5   passenger_count    56000 non-null  int64  \n",
      "dtypes: float64(5), int64(1)\n",
      "memory usage: 3.0 MB\n",
      "None\n"
     ]
    }
   ],
   "source": [
    "# Display the info of the imputed DataFrame\n",
    "print(\"Imputed Taxi Train Info:\")\n",
    "print(taxi_num.info())"
   ]
  },
  {
   "cell_type": "code",
   "execution_count": 17,
   "id": "989cc438",
   "metadata": {},
   "outputs": [],
   "source": [
    "# Now that we know that there are no null numbers we can move on to organizing the other columns"
   ]
  },
  {
   "cell_type": "code",
   "execution_count": 18,
   "id": "a061e21f",
   "metadata": {},
   "outputs": [],
   "source": [
    "# We need to be able to know the distance traveled but we are only given\n",
    "# longitude and latitude lines. \n",
    "\n",
    "# Since we need to calculate distance on a sphere we can use the Haversine Formula"
   ]
  },
  {
   "cell_type": "code",
   "execution_count": 19,
   "id": "aa336d97",
   "metadata": {},
   "outputs": [
    {
     "data": {
      "text/plain": [
       "47339     0.770268\n",
       "67456     0.862844\n",
       "12308     1.977765\n",
       "32557     3.453738\n",
       "664       4.559306\n",
       "           ...    \n",
       "37194     2.299236\n",
       "6265      6.303082\n",
       "54886     9.992735\n",
       "860       4.593692\n",
       "15795    21.601278\n",
       "Length: 56000, dtype: float64"
      ]
     },
     "execution_count": 19,
     "metadata": {},
     "output_type": "execute_result"
    }
   ],
   "source": [
    "# Apply to DF\n",
    "import math\n",
    "\n",
    "def hav_dist(lat1, lon1, lat2, lon2):\n",
    "    dLat = np.radians(lat2 - lat1)\n",
    "    dLon = np.radians(lon2 - lon1)\n",
    "    lat1 = np.radians(lat1)\n",
    "    lat2 = np.radians(lat2)\n",
    "    \n",
    "    a = (np.sin(dLat / 2) ** 2 + np.sin(dLon / 2) ** 2 * np.cos(lat1) * np.cos(lat2))\n",
    "    rad = 6371  # Earth's radius in kilometers\n",
    "    c = 2 * np.arcsin(np.sqrt(a))\n",
    "    \n",
    "    distance = rad * c\n",
    "    return distance\n",
    "\n",
    "\n",
    "\n",
    "distance = hav_dist(taxi_num['pickup_latitude'], \n",
    "                                 taxi_num['pickup_longitude'], \n",
    "                                 taxi_num['dropoff_latitude'], \n",
    "                                 taxi_num['dropoff_longitude'])\n",
    "\n",
    "distance"
   ]
  },
  {
   "cell_type": "code",
   "execution_count": 20,
   "id": "a3eb1f24",
   "metadata": {},
   "outputs": [
    {
     "data": {
      "text/html": [
       "<div>\n",
       "<style scoped>\n",
       "    .dataframe tbody tr th:only-of-type {\n",
       "        vertical-align: middle;\n",
       "    }\n",
       "\n",
       "    .dataframe tbody tr th {\n",
       "        vertical-align: top;\n",
       "    }\n",
       "\n",
       "    .dataframe thead th {\n",
       "        text-align: right;\n",
       "    }\n",
       "</style>\n",
       "<table border=\"1\" class=\"dataframe\">\n",
       "  <thead>\n",
       "    <tr style=\"text-align: right;\">\n",
       "      <th></th>\n",
       "      <th>fare_amount</th>\n",
       "      <th>pickup_longitude</th>\n",
       "      <th>pickup_latitude</th>\n",
       "      <th>dropoff_longitude</th>\n",
       "      <th>dropoff_latitude</th>\n",
       "      <th>passenger_count</th>\n",
       "      <th>distance</th>\n",
       "    </tr>\n",
       "  </thead>\n",
       "  <tbody>\n",
       "    <tr>\n",
       "      <th>47339</th>\n",
       "      <td>6.50</td>\n",
       "      <td>-73.976247</td>\n",
       "      <td>40.748368</td>\n",
       "      <td>-73.975468</td>\n",
       "      <td>40.755270</td>\n",
       "      <td>3</td>\n",
       "      <td>0.770268</td>\n",
       "    </tr>\n",
       "    <tr>\n",
       "      <th>67456</th>\n",
       "      <td>5.40</td>\n",
       "      <td>-74.002251</td>\n",
       "      <td>40.734537</td>\n",
       "      <td>-74.000881</td>\n",
       "      <td>40.742227</td>\n",
       "      <td>1</td>\n",
       "      <td>0.862844</td>\n",
       "    </tr>\n",
       "    <tr>\n",
       "      <th>12308</th>\n",
       "      <td>8.50</td>\n",
       "      <td>-73.980800</td>\n",
       "      <td>40.769752</td>\n",
       "      <td>-73.979122</td>\n",
       "      <td>40.752011</td>\n",
       "      <td>1</td>\n",
       "      <td>1.977765</td>\n",
       "    </tr>\n",
       "    <tr>\n",
       "      <th>32557</th>\n",
       "      <td>10.10</td>\n",
       "      <td>-74.008113</td>\n",
       "      <td>40.731087</td>\n",
       "      <td>-73.977977</td>\n",
       "      <td>40.752144</td>\n",
       "      <td>1</td>\n",
       "      <td>3.453738</td>\n",
       "    </tr>\n",
       "    <tr>\n",
       "      <th>664</th>\n",
       "      <td>24.50</td>\n",
       "      <td>-73.979269</td>\n",
       "      <td>40.761886</td>\n",
       "      <td>-74.002076</td>\n",
       "      <td>40.724702</td>\n",
       "      <td>1</td>\n",
       "      <td>4.559306</td>\n",
       "    </tr>\n",
       "    <tr>\n",
       "      <th>...</th>\n",
       "      <td>...</td>\n",
       "      <td>...</td>\n",
       "      <td>...</td>\n",
       "      <td>...</td>\n",
       "      <td>...</td>\n",
       "      <td>...</td>\n",
       "      <td>...</td>\n",
       "    </tr>\n",
       "    <tr>\n",
       "      <th>37194</th>\n",
       "      <td>8.10</td>\n",
       "      <td>-73.992161</td>\n",
       "      <td>40.738266</td>\n",
       "      <td>-73.975432</td>\n",
       "      <td>40.754604</td>\n",
       "      <td>1</td>\n",
       "      <td>2.299236</td>\n",
       "    </tr>\n",
       "    <tr>\n",
       "      <th>6265</th>\n",
       "      <td>16.10</td>\n",
       "      <td>-73.971785</td>\n",
       "      <td>40.756499</td>\n",
       "      <td>-74.013319</td>\n",
       "      <td>40.709354</td>\n",
       "      <td>4</td>\n",
       "      <td>6.303082</td>\n",
       "    </tr>\n",
       "    <tr>\n",
       "      <th>54886</th>\n",
       "      <td>24.67</td>\n",
       "      <td>-73.864515</td>\n",
       "      <td>40.770517</td>\n",
       "      <td>-73.978920</td>\n",
       "      <td>40.746717</td>\n",
       "      <td>1</td>\n",
       "      <td>9.992735</td>\n",
       "    </tr>\n",
       "    <tr>\n",
       "      <th>860</th>\n",
       "      <td>12.10</td>\n",
       "      <td>-73.987243</td>\n",
       "      <td>40.722410</td>\n",
       "      <td>-73.971620</td>\n",
       "      <td>40.761990</td>\n",
       "      <td>1</td>\n",
       "      <td>4.593692</td>\n",
       "    </tr>\n",
       "    <tr>\n",
       "      <th>15795</th>\n",
       "      <td>57.33</td>\n",
       "      <td>-73.778682</td>\n",
       "      <td>40.646662</td>\n",
       "      <td>-73.993680</td>\n",
       "      <td>40.752352</td>\n",
       "      <td>1</td>\n",
       "      <td>21.601278</td>\n",
       "    </tr>\n",
       "  </tbody>\n",
       "</table>\n",
       "<p>56000 rows × 7 columns</p>\n",
       "</div>"
      ],
      "text/plain": [
       "       fare_amount  pickup_longitude  pickup_latitude  dropoff_longitude  \\\n",
       "47339         6.50        -73.976247        40.748368         -73.975468   \n",
       "67456         5.40        -74.002251        40.734537         -74.000881   \n",
       "12308         8.50        -73.980800        40.769752         -73.979122   \n",
       "32557        10.10        -74.008113        40.731087         -73.977977   \n",
       "664          24.50        -73.979269        40.761886         -74.002076   \n",
       "...            ...               ...              ...                ...   \n",
       "37194         8.10        -73.992161        40.738266         -73.975432   \n",
       "6265         16.10        -73.971785        40.756499         -74.013319   \n",
       "54886        24.67        -73.864515        40.770517         -73.978920   \n",
       "860          12.10        -73.987243        40.722410         -73.971620   \n",
       "15795        57.33        -73.778682        40.646662         -73.993680   \n",
       "\n",
       "       dropoff_latitude  passenger_count   distance  \n",
       "47339         40.755270                3   0.770268  \n",
       "67456         40.742227                1   0.862844  \n",
       "12308         40.752011                1   1.977765  \n",
       "32557         40.752144                1   3.453738  \n",
       "664           40.724702                1   4.559306  \n",
       "...                 ...              ...        ...  \n",
       "37194         40.754604                1   2.299236  \n",
       "6265          40.709354                4   6.303082  \n",
       "54886         40.746717                1   9.992735  \n",
       "860           40.761990                1   4.593692  \n",
       "15795         40.752352                1  21.601278  \n",
       "\n",
       "[56000 rows x 7 columns]"
      ]
     },
     "execution_count": 20,
     "metadata": {},
     "output_type": "execute_result"
    }
   ],
   "source": [
    "# Now we should used the function that we created before to create a\n",
    "# Column that describes the total distance traveled\n",
    "\n",
    "taxi_train2 = pd.concat([taxi_num, distance], axis = 1)\n",
    "\n",
    "taxi_train2.rename(columns = {0:\"distance\"}, inplace = True)\n",
    "\n",
    "taxi_train2"
   ]
  },
  {
   "cell_type": "code",
   "execution_count": 21,
   "id": "f2f50719",
   "metadata": {},
   "outputs": [],
   "source": [
    "# We also would like to know more information about the time that these trips take place\n",
    "# Currently, they are in a format that is not all that useful to us"
   ]
  },
  {
   "cell_type": "code",
   "execution_count": 22,
   "id": "3127d854",
   "metadata": {
    "scrolled": true
   },
   "outputs": [
    {
     "data": {
      "image/png": "[encoded data removed]",
      "text/plain": [
       "<Figure size 864x576 with 9 Axes>"
      ]
     },
     "metadata": {
      "needs_background": "light"
     },
     "output_type": "display_data"
    }
   ],
   "source": [
    "import matplotlib.pyplot as plt\n",
    "from pandas.plotting import scatter_matrix\n",
    "\n",
    "attributes = [\"distance\", \"passenger_count\",\n",
    "              \"fare_amount\"]\n",
    "scatter_matrix(taxi_train2[attributes], figsize=(12, 8))\n",
    "plt.show()"
   ]
  },
  {
   "cell_type": "code",
   "execution_count": 23,
   "id": "7df01cc8",
   "metadata": {},
   "outputs": [],
   "source": [
    "# Based on the look of the scatter matrix it seems like there is some scaling that needs to be done"
   ]
  },
  {
   "cell_type": "code",
   "execution_count": 30,
   "id": "e4d331ba",
   "metadata": {},
   "outputs": [
    {
     "data": {
      "text/html": [
       "<div>\n",
       "<style scoped>\n",
       "    .dataframe tbody tr th:only-of-type {\n",
       "        vertical-align: middle;\n",
       "    }\n",
       "\n",
       "    .dataframe tbody tr th {\n",
       "        vertical-align: top;\n",
       "    }\n",
       "\n",
       "    .dataframe thead th {\n",
       "        text-align: right;\n",
       "    }\n",
       "</style>\n",
       "<table border=\"1\" class=\"dataframe\">\n",
       "  <thead>\n",
       "    <tr style=\"text-align: right;\">\n",
       "      <th></th>\n",
       "      <th>fare_amount</th>\n",
       "      <th>pickup_longitude</th>\n",
       "      <th>pickup_latitude</th>\n",
       "      <th>dropoff_longitude</th>\n",
       "      <th>dropoff_latitude</th>\n",
       "      <th>passenger_count</th>\n",
       "      <th>distance</th>\n",
       "    </tr>\n",
       "  </thead>\n",
       "  <tbody>\n",
       "    <tr>\n",
       "      <th>fare_amount</th>\n",
       "      <td>1.000000</td>\n",
       "      <td>0.006004</td>\n",
       "      <td>-0.006488</td>\n",
       "      <td>0.003169</td>\n",
       "      <td>-0.004039</td>\n",
       "      <td>0.016369</td>\n",
       "      <td>0.017926</td>\n",
       "    </tr>\n",
       "    <tr>\n",
       "      <th>pickup_longitude</th>\n",
       "      <td>0.006004</td>\n",
       "      <td>1.000000</td>\n",
       "      <td>-0.922105</td>\n",
       "      <td>0.928593</td>\n",
       "      <td>-0.916791</td>\n",
       "      <td>0.000852</td>\n",
       "      <td>0.117233</td>\n",
       "    </tr>\n",
       "    <tr>\n",
       "      <th>pickup_latitude</th>\n",
       "      <td>-0.006488</td>\n",
       "      <td>-0.922105</td>\n",
       "      <td>1.000000</td>\n",
       "      <td>-0.917094</td>\n",
       "      <td>0.937695</td>\n",
       "      <td>-0.003017</td>\n",
       "      <td>-0.122284</td>\n",
       "    </tr>\n",
       "    <tr>\n",
       "      <th>dropoff_longitude</th>\n",
       "      <td>0.003169</td>\n",
       "      <td>0.928593</td>\n",
       "      <td>-0.917094</td>\n",
       "      <td>1.000000</td>\n",
       "      <td>-0.979151</td>\n",
       "      <td>0.000778</td>\n",
       "      <td>0.136588</td>\n",
       "    </tr>\n",
       "    <tr>\n",
       "      <th>dropoff_latitude</th>\n",
       "      <td>-0.004039</td>\n",
       "      <td>-0.916791</td>\n",
       "      <td>0.937695</td>\n",
       "      <td>-0.979151</td>\n",
       "      <td>1.000000</td>\n",
       "      <td>-0.002906</td>\n",
       "      <td>-0.116552</td>\n",
       "    </tr>\n",
       "    <tr>\n",
       "      <th>passenger_count</th>\n",
       "      <td>0.016369</td>\n",
       "      <td>0.000852</td>\n",
       "      <td>-0.003017</td>\n",
       "      <td>0.000778</td>\n",
       "      <td>-0.002906</td>\n",
       "      <td>1.000000</td>\n",
       "      <td>-0.008217</td>\n",
       "    </tr>\n",
       "    <tr>\n",
       "      <th>distance</th>\n",
       "      <td>0.017926</td>\n",
       "      <td>0.117233</td>\n",
       "      <td>-0.122284</td>\n",
       "      <td>0.136588</td>\n",
       "      <td>-0.116552</td>\n",
       "      <td>-0.008217</td>\n",
       "      <td>1.000000</td>\n",
       "    </tr>\n",
       "  </tbody>\n",
       "</table>\n",
       "</div>"
      ],
      "text/plain": [
       "                   fare_amount  pickup_longitude  pickup_latitude  \\\n",
       "fare_amount           1.000000          0.006004        -0.006488   \n",
       "pickup_longitude      0.006004          1.000000        -0.922105   \n",
       "pickup_latitude      -0.006488         -0.922105         1.000000   \n",
       "dropoff_longitude     0.003169          0.928593        -0.917094   \n",
       "dropoff_latitude     -0.004039         -0.916791         0.937695   \n",
       "passenger_count       0.016369          0.000852        -0.003017   \n",
       "distance              0.017926          0.117233        -0.122284   \n",
       "\n",
       "                   dropoff_longitude  dropoff_latitude  passenger_count  \\\n",
       "fare_amount                 0.003169         -0.004039         0.016369   \n",
       "pickup_longitude            0.928593         -0.916791         0.000852   \n",
       "pickup_latitude            -0.917094          0.937695        -0.003017   \n",
       "dropoff_longitude           1.000000         -0.979151         0.000778   \n",
       "dropoff_latitude           -0.979151          1.000000        -0.002906   \n",
       "passenger_count             0.000778         -0.002906         1.000000   \n",
       "distance                    0.136588         -0.116552        -0.008217   \n",
       "\n",
       "                   distance  \n",
       "fare_amount        0.017926  \n",
       "pickup_longitude   0.117233  \n",
       "pickup_latitude   -0.122284  \n",
       "dropoff_longitude  0.136588  \n",
       "dropoff_latitude  -0.116552  \n",
       "passenger_count   -0.008217  \n",
       "distance           1.000000  "
      ]
     },
     "execution_count": 30,
     "metadata": {},
     "output_type": "execute_result"
    }
   ],
   "source": [
    "# Let's also take a look at a correlation matrix\n",
    "\n",
    "taxi_corr = taxi_train2.corr()\n",
    "\n",
    "taxi_corr"
   ]
  },
  {
   "cell_type": "code",
   "execution_count": null,
   "id": "e21763f0",
   "metadata": {},
   "outputs": [],
   "source": [
    "# Stronger Correlations between the distance and fare amount"
   ]
  },
  {
   "cell_type": "code",
   "execution_count": 31,
   "id": "996eb714",
   "metadata": {},
   "outputs": [],
   "source": [
    "# Applying the same transformations to the test set\n",
    "\n",
    "distance_test = hav_dist(taxi_num_test['pickup_latitude'], \n",
    "                                 taxi_num_test['pickup_longitude'], \n",
    "                                 taxi_num_test['dropoff_latitude'], \n",
    "                                 taxi_num_test['dropoff_longitude'])\n",
    "\n",
    "#distance_test\n",
    "\n",
    "taxi_test_final = pd.concat([taxi_test, distance_test], axis = 1)\n",
    "\n",
    "taxi_test_final.rename(columns = {0:\"distance\"}, inplace = True)"
   ]
  },
  {
   "cell_type": "markdown",
   "id": "68e5ef91",
   "metadata": {},
   "source": [
    "### Working on the Regressors"
   ]
  },
  {
   "cell_type": "code",
   "execution_count": 26,
   "id": "567c990f",
   "metadata": {},
   "outputs": [
    {
     "name": "stdout",
     "output_type": "stream",
     "text": [
      "Test RMSE: 9.567\n"
     ]
    }
   ],
   "source": [
    "# Linear Regressor\n",
    "\n",
    "lr = LinearRegression()\n",
    "\n",
    "X_train= taxi_train2[[\"distance\"]].values\n",
    "y_train= taxi_train2[[\"fare_amount\"]].values\n",
    "X_test= taxi_test2[[\"distance\"]].values\n",
    "y_test= taxi_test2[[\"fare_amount\"]].values\n",
    "\n",
    "lr.fit(X_train, y_train)\n",
    "y_pred = lr.predict(X_test)\n",
    "\n",
    "from sklearn.metrics import mean_squared_error\n",
    "\n",
    "print(\"Test RMSE: %.3f\" % mean_squared_error( y_test, y_pred) ** 0.5)"
   ]
  },
  {
   "cell_type": "code",
   "execution_count": 27,
   "id": "eb37fc49",
   "metadata": {},
   "outputs": [
    {
     "name": "stdout",
     "output_type": "stream",
     "text": [
      "Test RMSE: 4.977\n"
     ]
    }
   ],
   "source": [
    "# RandomForest Regression\n",
    "\n",
    "from sklearn.ensemble import RandomForestRegressor\n",
    "\n",
    "rf = RandomForestRegressor(max_depth=5, random_state=0, n_estimators=200)\n",
    "rf.fit(X_train, y_train.ravel())\n",
    "y_pred = rf.predict(X_test)\n",
    "\n",
    "print(\"Test RMSE: %.3f\" % mean_squared_error( y_test, y_pred) ** 0.5)"
   ]
  },
  {
   "cell_type": "markdown",
   "id": "e037d7be",
   "metadata": {},
   "source": [
    "## Our Model, of course, can be improved. Here are some of the features that we could not properly impletement but began working on with hopes of improving our model."
   ]
  },
  {
   "cell_type": "code",
   "execution_count": 34,
   "id": "5344001a",
   "metadata": {},
   "outputs": [
    {
     "ename": "AttributeError",
     "evalue": "'DataFrame' object has no attribute 'to_datetime'",
     "output_type": "error",
     "traceback": [
      "\u001b[1;31m---------------------------------------------------------------------------\u001b[0m",
      "\u001b[1;31mAttributeError\u001b[0m                            Traceback (most recent call last)",
      "\u001b[1;32m<ipython-input-34-5c9d6c6a142a>\u001b[0m in \u001b[0;36m<module>\u001b[1;34m\u001b[0m\n\u001b[0;32m      3\u001b[0m \u001b[1;31m# Dealing with Datetime\u001b[0m\u001b[1;33m\u001b[0m\u001b[1;33m\u001b[0m\u001b[1;33m\u001b[0m\u001b[0m\n\u001b[0;32m      4\u001b[0m \u001b[1;33m\u001b[0m\u001b[0m\n\u001b[1;32m----> 5\u001b[1;33m \u001b[0mtaxi_train\u001b[0m\u001b[1;33m[\u001b[0m\u001b[1;34m'pickup_datetime'\u001b[0m\u001b[1;33m]\u001b[0m \u001b[1;33m=\u001b[0m \u001b[0mtaxi_train2\u001b[0m\u001b[1;33m.\u001b[0m\u001b[0mto_datetime\u001b[0m\u001b[1;33m(\u001b[0m\u001b[0mtaxi_train\u001b[0m\u001b[1;33m.\u001b[0m\u001b[0mpickup_datetime\u001b[0m\u001b[1;33m)\u001b[0m\u001b[1;33m\u001b[0m\u001b[1;33m\u001b[0m\u001b[0m\n\u001b[0m\u001b[0;32m      6\u001b[0m \u001b[0mtaxi_test\u001b[0m\u001b[1;33m[\u001b[0m\u001b[1;34m'pickup_datetime'\u001b[0m\u001b[1;33m]\u001b[0m \u001b[1;33m=\u001b[0m \u001b[0mtaxi_train2\u001b[0m\u001b[1;33m.\u001b[0m\u001b[0mto_datetime\u001b[0m\u001b[1;33m(\u001b[0m\u001b[0mtaxi_test\u001b[0m\u001b[1;33m.\u001b[0m\u001b[0mpickup_datetime\u001b[0m\u001b[1;33m)\u001b[0m\u001b[1;33m\u001b[0m\u001b[1;33m\u001b[0m\u001b[0m\n\u001b[0;32m      7\u001b[0m \u001b[1;33m\u001b[0m\u001b[0m\n",
      "\u001b[1;32m~\\anaconda3\\lib\\site-packages\\pandas\\core\\generic.py\u001b[0m in \u001b[0;36m__getattr__\u001b[1;34m(self, name)\u001b[0m\n\u001b[0;32m   5463\u001b[0m             \u001b[1;32mif\u001b[0m \u001b[0mself\u001b[0m\u001b[1;33m.\u001b[0m\u001b[0m_info_axis\u001b[0m\u001b[1;33m.\u001b[0m\u001b[0m_can_hold_identifiers_and_holds_name\u001b[0m\u001b[1;33m(\u001b[0m\u001b[0mname\u001b[0m\u001b[1;33m)\u001b[0m\u001b[1;33m:\u001b[0m\u001b[1;33m\u001b[0m\u001b[1;33m\u001b[0m\u001b[0m\n\u001b[0;32m   5464\u001b[0m                 \u001b[1;32mreturn\u001b[0m \u001b[0mself\u001b[0m\u001b[1;33m[\u001b[0m\u001b[0mname\u001b[0m\u001b[1;33m]\u001b[0m\u001b[1;33m\u001b[0m\u001b[1;33m\u001b[0m\u001b[0m\n\u001b[1;32m-> 5465\u001b[1;33m             \u001b[1;32mreturn\u001b[0m \u001b[0mobject\u001b[0m\u001b[1;33m.\u001b[0m\u001b[0m__getattribute__\u001b[0m\u001b[1;33m(\u001b[0m\u001b[0mself\u001b[0m\u001b[1;33m,\u001b[0m \u001b[0mname\u001b[0m\u001b[1;33m)\u001b[0m\u001b[1;33m\u001b[0m\u001b[1;33m\u001b[0m\u001b[0m\n\u001b[0m\u001b[0;32m   5466\u001b[0m \u001b[1;33m\u001b[0m\u001b[0m\n\u001b[0;32m   5467\u001b[0m     \u001b[1;32mdef\u001b[0m \u001b[0m__setattr__\u001b[0m\u001b[1;33m(\u001b[0m\u001b[0mself\u001b[0m\u001b[1;33m,\u001b[0m \u001b[0mname\u001b[0m\u001b[1;33m:\u001b[0m \u001b[0mstr\u001b[0m\u001b[1;33m,\u001b[0m \u001b[0mvalue\u001b[0m\u001b[1;33m)\u001b[0m \u001b[1;33m->\u001b[0m \u001b[1;32mNone\u001b[0m\u001b[1;33m:\u001b[0m\u001b[1;33m\u001b[0m\u001b[1;33m\u001b[0m\u001b[0m\n",
      "\u001b[1;31mAttributeError\u001b[0m: 'DataFrame' object has no attribute 'to_datetime'"
     ]
    }
   ],
   "source": [
    "# Results appear to be skewed due to the differences in scaling between features\n",
    "\n",
    "# Dealing with Datetime\n",
    "\n",
    "taxi_train['pickup_datetime'] = taxi_train2.to_datetime(taxi_train.pickup_datetime)\n",
    "taxi_test['pickup_datetime'] = taxi_train2.to_datetime(taxi_test.pickup_datetime)\n",
    "\n",
    "\n",
    "## We want to be able to work with daytime feature in a way that is useful"
   ]
  },
  {
   "cell_type": "code",
   "execution_count": 10,
   "id": "30e6c40d",
   "metadata": {
    "scrolled": false
   },
   "outputs": [
    {
     "ename": "AttributeError",
     "evalue": "'Series' object has no attribute 'taxi_train'",
     "output_type": "error",
     "traceback": [
      "\u001b[1;31m---------------------------------------------------------------------------\u001b[0m",
      "\u001b[1;31mAttributeError\u001b[0m                            Traceback (most recent call last)",
      "\u001b[1;32m<ipython-input-10-8d2a5c13e895>\u001b[0m in \u001b[0;36m<module>\u001b[1;34m\u001b[0m\n\u001b[0;32m      1\u001b[0m \u001b[1;31m# Since there is a lot to be known from the time of pickup we need to separate information\u001b[0m\u001b[1;33m\u001b[0m\u001b[1;33m\u001b[0m\u001b[1;33m\u001b[0m\u001b[0m\n\u001b[0;32m      2\u001b[0m \u001b[1;33m\u001b[0m\u001b[0m\n\u001b[1;32m----> 3\u001b[1;33m \u001b[0mtaxi_train\u001b[0m\u001b[1;33m.\u001b[0m\u001b[0mloc\u001b[0m\u001b[1;33m[\u001b[0m\u001b[1;33m:\u001b[0m\u001b[1;33m,\u001b[0m \u001b[1;34m'pickup_hour'\u001b[0m\u001b[1;33m]\u001b[0m \u001b[1;33m=\u001b[0m \u001b[0mtaxi_train\u001b[0m\u001b[1;33m[\u001b[0m\u001b[1;34m'pickup_datetime'\u001b[0m\u001b[1;33m]\u001b[0m\u001b[1;33m.\u001b[0m\u001b[0mtaxi_train\u001b[0m\u001b[1;33m.\u001b[0m\u001b[0mhour\u001b[0m\u001b[1;33m\u001b[0m\u001b[1;33m\u001b[0m\u001b[0m\n\u001b[0m\u001b[0;32m      4\u001b[0m \u001b[0mtaxi_train\u001b[0m\u001b[1;33m.\u001b[0m\u001b[0mloc\u001b[0m\u001b[1;33m[\u001b[0m\u001b[1;33m:\u001b[0m\u001b[1;33m,\u001b[0m \u001b[1;34m'pickup_weekday'\u001b[0m\u001b[1;33m]\u001b[0m \u001b[1;33m=\u001b[0m \u001b[0mtaxi_train\u001b[0m\u001b[1;33m[\u001b[0m\u001b[1;34m'pickup_datetime'\u001b[0m\u001b[1;33m]\u001b[0m\u001b[1;33m.\u001b[0m\u001b[0mtaxi_train\u001b[0m\u001b[1;33m.\u001b[0m\u001b[0mday_name\u001b[0m\u001b[1;33m(\u001b[0m\u001b[1;33m)\u001b[0m\u001b[1;33m\u001b[0m\u001b[1;33m\u001b[0m\u001b[0m\n\u001b[0;32m      5\u001b[0m \u001b[0mtaxi_train\u001b[0m\u001b[1;33m.\u001b[0m\u001b[0mloc\u001b[0m\u001b[1;33m[\u001b[0m\u001b[1;33m:\u001b[0m\u001b[1;33m,\u001b[0m \u001b[1;34m'pickup_date'\u001b[0m\u001b[1;33m]\u001b[0m \u001b[1;33m=\u001b[0m \u001b[0mtaxi_train\u001b[0m\u001b[1;33m[\u001b[0m\u001b[1;34m'pickup_datetime'\u001b[0m\u001b[1;33m]\u001b[0m\u001b[1;33m.\u001b[0m\u001b[0mdtaxi_train\u001b[0m\u001b[1;33m.\u001b[0m\u001b[0mday\u001b[0m\u001b[1;33m\u001b[0m\u001b[1;33m\u001b[0m\u001b[0m\n",
      "\u001b[1;32m~\\anaconda3\\lib\\site-packages\\pandas\\core\\generic.py\u001b[0m in \u001b[0;36m__getattr__\u001b[1;34m(self, name)\u001b[0m\n\u001b[0;32m   5463\u001b[0m             \u001b[1;32mif\u001b[0m \u001b[0mself\u001b[0m\u001b[1;33m.\u001b[0m\u001b[0m_info_axis\u001b[0m\u001b[1;33m.\u001b[0m\u001b[0m_can_hold_identifiers_and_holds_name\u001b[0m\u001b[1;33m(\u001b[0m\u001b[0mname\u001b[0m\u001b[1;33m)\u001b[0m\u001b[1;33m:\u001b[0m\u001b[1;33m\u001b[0m\u001b[1;33m\u001b[0m\u001b[0m\n\u001b[0;32m   5464\u001b[0m                 \u001b[1;32mreturn\u001b[0m \u001b[0mself\u001b[0m\u001b[1;33m[\u001b[0m\u001b[0mname\u001b[0m\u001b[1;33m]\u001b[0m\u001b[1;33m\u001b[0m\u001b[1;33m\u001b[0m\u001b[0m\n\u001b[1;32m-> 5465\u001b[1;33m             \u001b[1;32mreturn\u001b[0m \u001b[0mobject\u001b[0m\u001b[1;33m.\u001b[0m\u001b[0m__getattribute__\u001b[0m\u001b[1;33m(\u001b[0m\u001b[0mself\u001b[0m\u001b[1;33m,\u001b[0m \u001b[0mname\u001b[0m\u001b[1;33m)\u001b[0m\u001b[1;33m\u001b[0m\u001b[1;33m\u001b[0m\u001b[0m\n\u001b[0m\u001b[0;32m   5466\u001b[0m \u001b[1;33m\u001b[0m\u001b[0m\n\u001b[0;32m   5467\u001b[0m     \u001b[1;32mdef\u001b[0m \u001b[0m__setattr__\u001b[0m\u001b[1;33m(\u001b[0m\u001b[0mself\u001b[0m\u001b[1;33m,\u001b[0m \u001b[0mname\u001b[0m\u001b[1;33m:\u001b[0m \u001b[0mstr\u001b[0m\u001b[1;33m,\u001b[0m \u001b[0mvalue\u001b[0m\u001b[1;33m)\u001b[0m \u001b[1;33m->\u001b[0m \u001b[1;32mNone\u001b[0m\u001b[1;33m:\u001b[0m\u001b[1;33m\u001b[0m\u001b[1;33m\u001b[0m\u001b[0m\n",
      "\u001b[1;31mAttributeError\u001b[0m: 'Series' object has no attribute 'taxi_train'"
     ]
    }
   ],
   "source": [
    "# Failed Version of Haversine Function\n",
    "\n",
    "import math\n",
    "\n",
    "def haversine(lat1, lon1, lat2, lon2):\n",
    "\n",
    "    # Coordinates in decimal degrees (e.g. 2.89078, 12.79797)\n",
    "    #lon1, lat1 = coord1\n",
    "    #lon2, lat2 = coord2\n",
    "\n",
    "    R = 6371000  # radius of Earth in meters\n",
    "    phi_1 = math.radians(lat1)\n",
    "    phi_2 = math.radians(lat2)\n",
    "\n",
    "    delta_phi = math.radians(lat2 - lat1)\n",
    "    delta_lambda = math.radians(lon2 - lon1)\n",
    "\n",
    "    a = math.sin(delta_phi / 2.0) ** 2 + math.cos(phi_1) * math.cos(phi_2) * math.sin(delta_lambda / 2.0) ** 2\n",
    "    \n",
    "    c = 2 * math.atan2(math.sqrt(a), math.sqrt(1 - a))\n",
    "\n",
    "    meters = R * c  # output distance in meters\n",
    "    km = meters / 1000.0  # output distance in kilometers\n",
    "\n",
    "    meters = round(meters, 3)\n",
    "    km = round(km, 3)\n",
    "\n",
    "    return km"
   ]
  },
  {
   "cell_type": "code",
   "execution_count": null,
   "id": "f4117e55",
   "metadata": {},
   "outputs": [],
   "source": []
  },
  {
   "cell_type": "code",
   "execution_count": null,
   "id": "34b70b92",
   "metadata": {},
   "outputs": [],
   "source": []
  }
 ],
 "metadata": {
  "kernelspec": {
   "display_name": "Python 3",
   "language": "python",
   "name": "python3"
  },
  "language_info": {
   "codemirror_mode": {
    "name": "ipython",
    "version": 3
   },
   "file_extension": ".py",
   "mimetype": "text/x-python",
   "name": "python",
   "nbconvert_exporter": "python",
   "pygments_lexer": "ipython3",
   "version": "3.8.8"
  }
 },
 "nbformat": 4,
 "nbformat_minor": 5
}
