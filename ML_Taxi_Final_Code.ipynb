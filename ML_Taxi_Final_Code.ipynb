{
 "cells": [
  {
   "cell_type": "markdown",
   "id": "ef2ac206",
   "metadata": {},
   "source": [
    "# Machine Learning Code"
   ]
  },
  {
   "cell_type": "code",
   "execution_count": 2,
   "id": "423840f6-43cf-4009-b5ba-708577cc52c4",
   "metadata": {},
   "outputs": [],
   "source": [
    "# In order to start we need to Load in some Packages"
   ]
  },
  {
   "cell_type": "code",
   "execution_count": 1,
   "id": "50ce20d7-dc9f-419b-a4c6-5431aabd55c5",
   "metadata": {},
   "outputs": [],
   "source": [
    "from packaging import version\n",
    "import sklearn\n",
    "import matplotlib.pyplot as plt\n",
    "\n",
    "from pathlib import Path\n",
    "import pandas as pd\n",
    "import numpy as np\n",
    "from sklearn.linear_model import LinearRegression\n",
    "from sklearn.impute import SimpleImputer  # Import the imputer"
   ]
  },
  {
   "cell_type": "code",
   "execution_count": 2,
   "id": "93b662ce-5521-4fa8-9868-dd7e969d8a7c",
   "metadata": {},
   "outputs": [],
   "source": [
    "# Now, we can load the data set so that we can explore all the features."
   ]
  },
  {
   "cell_type": "code",
   "execution_count": 65,
   "id": "befa02f4-4356-4c07-8a8d-890e4eea4cd1",
   "metadata": {},
   "outputs": [],
   "source": [
    "# We want to split the data set before we begin. A random sampling will suffice. \n",
    "\n",
    "total_set = pd.read_csv(\"train.csv\", nrows = 89000)"
   ]
  },
  {
   "cell_type": "code",
   "execution_count": 66,
   "id": "6ada5fdd",
   "metadata": {},
   "outputs": [
    {
     "name": "stdout",
     "output_type": "stream",
     "text": [
      "<class 'pandas.core.frame.DataFrame'>\n",
      "RangeIndex: 89000 entries, 0 to 88999\n",
      "Data columns (total 8 columns):\n",
      " #   Column             Non-Null Count  Dtype  \n",
      "---  ------             --------------  -----  \n",
      " 0   key                89000 non-null  object \n",
      " 1   fare_amount        89000 non-null  float64\n",
      " 2   pickup_datetime    89000 non-null  object \n",
      " 3   pickup_longitude   89000 non-null  float64\n",
      " 4   pickup_latitude    89000 non-null  float64\n",
      " 5   dropoff_longitude  89000 non-null  float64\n",
      " 6   dropoff_latitude   89000 non-null  float64\n",
      " 7   passenger_count    89000 non-null  int64  \n",
      "dtypes: float64(5), int64(1), object(2)\n",
      "memory usage: 5.4+ MB\n"
     ]
    }
   ],
   "source": [
    "total_set.info()"
   ]
  },
  {
   "cell_type": "code",
   "execution_count": 67,
   "id": "e8b8b4e6",
   "metadata": {},
   "outputs": [],
   "source": [
    "# Now we spliting the training and test data set\n",
    "\n",
    "from sklearn.model_selection import train_test_split\n",
    "\n",
    "taxi_train, taxi_test = train_test_split(total_set, test_size = .2, random_state = 42)\n"
   ]
  },
  {
   "cell_type": "code",
   "execution_count": 68,
   "id": "a13fda0f-3403-412c-8de6-8f7febe87a98",
   "metadata": {},
   "outputs": [],
   "source": [
    "# Now we have to explore the data set"
   ]
  },
  {
   "cell_type": "code",
   "execution_count": 69,
   "id": "f4070073",
   "metadata": {
    "scrolled": true
   },
   "outputs": [
    {
     "data": {
      "text/html": [
       "<div>\n",
       "<style scoped>\n",
       "    .dataframe tbody tr th:only-of-type {\n",
       "        vertical-align: middle;\n",
       "    }\n",
       "\n",
       "    .dataframe tbody tr th {\n",
       "        vertical-align: top;\n",
       "    }\n",
       "\n",
       "    .dataframe thead th {\n",
       "        text-align: right;\n",
       "    }\n",
       "</style>\n",
       "<table border=\"1\" class=\"dataframe\">\n",
       "  <thead>\n",
       "    <tr style=\"text-align: right;\">\n",
       "      <th></th>\n",
       "      <th>key</th>\n",
       "      <th>fare_amount</th>\n",
       "      <th>pickup_datetime</th>\n",
       "      <th>pickup_longitude</th>\n",
       "      <th>pickup_latitude</th>\n",
       "      <th>dropoff_longitude</th>\n",
       "      <th>dropoff_latitude</th>\n",
       "      <th>passenger_count</th>\n",
       "    </tr>\n",
       "  </thead>\n",
       "  <tbody>\n",
       "    <tr>\n",
       "      <th>53563</th>\n",
       "      <td>2014-06-06 10:09:00.000000190</td>\n",
       "      <td>24.00</td>\n",
       "      <td>2014-06-06 10:09:00 UTC</td>\n",
       "      <td>-73.987137</td>\n",
       "      <td>40.759077</td>\n",
       "      <td>-74.017247</td>\n",
       "      <td>40.705102</td>\n",
       "      <td>4</td>\n",
       "    </tr>\n",
       "    <tr>\n",
       "      <th>3886</th>\n",
       "      <td>2015-02-01 17:56:07.00000010</td>\n",
       "      <td>11.00</td>\n",
       "      <td>2015-02-01 17:56:07 UTC</td>\n",
       "      <td>-74.012802</td>\n",
       "      <td>40.702644</td>\n",
       "      <td>-73.979904</td>\n",
       "      <td>40.717682</td>\n",
       "      <td>1</td>\n",
       "    </tr>\n",
       "    <tr>\n",
       "      <th>81350</th>\n",
       "      <td>2009-10-30 07:36:48.0000003</td>\n",
       "      <td>5.70</td>\n",
       "      <td>2009-10-30 07:36:48 UTC</td>\n",
       "      <td>-73.976334</td>\n",
       "      <td>40.776474</td>\n",
       "      <td>-73.980876</td>\n",
       "      <td>40.762365</td>\n",
       "      <td>1</td>\n",
       "    </tr>\n",
       "    <tr>\n",
       "      <th>27681</th>\n",
       "      <td>2014-05-10 13:44:00.00000095</td>\n",
       "      <td>57.33</td>\n",
       "      <td>2014-05-10 13:44:00 UTC</td>\n",
       "      <td>-73.783462</td>\n",
       "      <td>40.648685</td>\n",
       "      <td>-73.984497</td>\n",
       "      <td>40.783407</td>\n",
       "      <td>1</td>\n",
       "    </tr>\n",
       "    <tr>\n",
       "      <th>23590</th>\n",
       "      <td>2012-07-03 07:54:37.0000002</td>\n",
       "      <td>10.10</td>\n",
       "      <td>2012-07-03 07:54:37 UTC</td>\n",
       "      <td>-74.003328</td>\n",
       "      <td>40.743794</td>\n",
       "      <td>-73.970523</td>\n",
       "      <td>40.762042</td>\n",
       "      <td>1</td>\n",
       "    </tr>\n",
       "  </tbody>\n",
       "</table>\n",
       "</div>"
      ],
      "text/plain": [
       "                                 key  fare_amount          pickup_datetime  \\\n",
       "53563  2014-06-06 10:09:00.000000190        24.00  2014-06-06 10:09:00 UTC   \n",
       "3886    2015-02-01 17:56:07.00000010        11.00  2015-02-01 17:56:07 UTC   \n",
       "81350    2009-10-30 07:36:48.0000003         5.70  2009-10-30 07:36:48 UTC   \n",
       "27681   2014-05-10 13:44:00.00000095        57.33  2014-05-10 13:44:00 UTC   \n",
       "23590    2012-07-03 07:54:37.0000002        10.10  2012-07-03 07:54:37 UTC   \n",
       "\n",
       "       pickup_longitude  pickup_latitude  dropoff_longitude  dropoff_latitude  \\\n",
       "53563        -73.987137        40.759077         -74.017247         40.705102   \n",
       "3886         -74.012802        40.702644         -73.979904         40.717682   \n",
       "81350        -73.976334        40.776474         -73.980876         40.762365   \n",
       "27681        -73.783462        40.648685         -73.984497         40.783407   \n",
       "23590        -74.003328        40.743794         -73.970523         40.762042   \n",
       "\n",
       "       passenger_count  \n",
       "53563                4  \n",
       "3886                 1  \n",
       "81350                1  \n",
       "27681                1  \n",
       "23590                1  "
      ]
     },
     "execution_count": 69,
     "metadata": {},
     "output_type": "execute_result"
    }
   ],
   "source": [
    "taxi_train.head()"
   ]
  },
  {
   "cell_type": "code",
   "execution_count": 70,
   "id": "dc89901b",
   "metadata": {},
   "outputs": [
    {
     "name": "stdout",
     "output_type": "stream",
     "text": [
      "<class 'pandas.core.frame.DataFrame'>\n",
      "Int64Index: 71200 entries, 53563 to 15795\n",
      "Data columns (total 8 columns):\n",
      " #   Column             Non-Null Count  Dtype  \n",
      "---  ------             --------------  -----  \n",
      " 0   key                71200 non-null  object \n",
      " 1   fare_amount        71200 non-null  float64\n",
      " 2   pickup_datetime    71200 non-null  object \n",
      " 3   pickup_longitude   71200 non-null  float64\n",
      " 4   pickup_latitude    71200 non-null  float64\n",
      " 5   dropoff_longitude  71200 non-null  float64\n",
      " 6   dropoff_latitude   71200 non-null  float64\n",
      " 7   passenger_count    71200 non-null  int64  \n",
      "dtypes: float64(5), int64(1), object(2)\n",
      "memory usage: 4.9+ MB\n"
     ]
    }
   ],
   "source": [
    "# A better way to get an idea of what is happening in the data set\n",
    "\n",
    "taxi_train.info()"
   ]
  },
  {
   "cell_type": "code",
   "execution_count": 71,
   "id": "5b3e5179",
   "metadata": {},
   "outputs": [
    {
     "data": {
      "text/plain": [
       "Text(0.5, 1.0, 'Instances per Fare Amount, in Dollars')"
      ]
     },
     "execution_count": 71,
     "metadata": {},
     "output_type": "execute_result"
    },
    {
     "data": {
      "image/png": "[encoded data removed]",
      "text/plain": [
       "<Figure size 720x216 with 1 Axes>"
      ]
     },
     "metadata": {
      "needs_background": "light"
     },
     "output_type": "display_data"
    }
   ],
   "source": [
    "# From the above command we see that we have two object type attributes,\n",
    "# one integer attribute, and five float type attributes.\n",
    "\n",
    "# We can have a better understanding of the scales of the different attributes\n",
    "# By visualizing them\n",
    "\n",
    "taxi_train[taxi_train.fare_amount <60].fare_amount.hist(bins = 100,\n",
    "                                                         figsize = (10,3))\n",
    "\n",
    "plt.xlabel(\"Fare Amount\")\n",
    "plt.title(\"Instances per Fare Amount, in Dollars\")"
   ]
  },
  {
   "cell_type": "code",
   "execution_count": 72,
   "id": "97638a82",
   "metadata": {},
   "outputs": [],
   "source": [
    "# From afar it seems like most of the fare amounts are between \n",
    "# 0 and 20 Dollars, this is something that we can take into consideration when scaling "
   ]
  },
  {
   "cell_type": "code",
   "execution_count": 73,
   "id": "f62bd947",
   "metadata": {},
   "outputs": [
    {
     "data": {
      "text/plain": [
       "Text(0.5, 1.0, 'Instances per Passenger Number')"
      ]
     },
     "execution_count": 73,
     "metadata": {},
     "output_type": "execute_result"
    },
    {
     "data": {
      "image/png": "[encoded data removed]",
      "text/plain": [
       "<Figure size 1080x288 with 1 Axes>"
      ]
     },
     "metadata": {
      "needs_background": "light"
     },
     "output_type": "display_data"
    }
   ],
   "source": [
    "# Lets also take a look at the passenger count\n",
    "\n",
    "taxi_train[taxi_train.passenger_count <20].fare_amount.hist(bins = 20,\n",
    "                                                         figsize = (15,4))\n",
    "\n",
    "plt.xlabel(\"Passenger Count\")\n",
    "plt.title(\"Instances per Passenger Number\")"
   ]
  },
  {
   "cell_type": "code",
   "execution_count": 74,
   "id": "8658ce17",
   "metadata": {},
   "outputs": [
    {
     "data": {
      "text/plain": [
       "array([[ 24.        , -73.987137  ,  40.759077  , -74.017247  ,\n",
       "         40.705102  ,   4.        ],\n",
       "       [ 11.        , -74.01280212,  40.70264435, -73.97990417,\n",
       "         40.71768188,   1.        ],\n",
       "       [  5.7       , -73.976334  ,  40.776474  , -73.980876  ,\n",
       "         40.762365  ,   1.        ],\n",
       "       ...,\n",
       "       [ 10.5       , -73.968138  ,  40.759652  , -73.985187  ,\n",
       "         40.727665  ,   1.        ],\n",
       "       [ 12.1       , -73.987243  ,  40.72241   , -73.97162   ,\n",
       "         40.76199   ,   1.        ],\n",
       "       [ 57.33      , -73.778682  ,  40.646662  , -73.99368   ,\n",
       "         40.752352  ,   1.        ]])"
      ]
     },
     "execution_count": 74,
     "metadata": {},
     "output_type": "execute_result"
    }
   ],
   "source": [
    "# Impute missing values with the mean for Taxi Fare column\n",
    "\n",
    "taxidf = taxi_train\n",
    "\n",
    "imputer = SimpleImputer(strategy=\"mean\")\n",
    "\n",
    "taxi_num = taxidf.select_dtypes(include = [np.number])\n",
    "\n",
    "imputer.fit(taxi_num)\n",
    "\n",
    "imputer.transform(taxi_num)"
   ]
  },
  {
   "cell_type": "code",
   "execution_count": 75,
   "id": "cc869ba6",
   "metadata": {},
   "outputs": [
    {
     "data": {
      "text/html": [
       "<div>\n",
       "<style scoped>\n",
       "    .dataframe tbody tr th:only-of-type {\n",
       "        vertical-align: middle;\n",
       "    }\n",
       "\n",
       "    .dataframe tbody tr th {\n",
       "        vertical-align: top;\n",
       "    }\n",
       "\n",
       "    .dataframe thead th {\n",
       "        text-align: right;\n",
       "    }\n",
       "</style>\n",
       "<table border=\"1\" class=\"dataframe\">\n",
       "  <thead>\n",
       "    <tr style=\"text-align: right;\">\n",
       "      <th></th>\n",
       "      <th>fare_amount</th>\n",
       "      <th>pickup_longitude</th>\n",
       "      <th>pickup_latitude</th>\n",
       "      <th>dropoff_longitude</th>\n",
       "      <th>dropoff_latitude</th>\n",
       "      <th>passenger_count</th>\n",
       "    </tr>\n",
       "  </thead>\n",
       "  <tbody>\n",
       "    <tr>\n",
       "      <th>12033</th>\n",
       "      <td>13.0</td>\n",
       "      <td>-73.992857</td>\n",
       "      <td>40.755167</td>\n",
       "      <td>-73.997920</td>\n",
       "      <td>40.719575</td>\n",
       "      <td>2</td>\n",
       "    </tr>\n",
       "    <tr>\n",
       "      <th>80075</th>\n",
       "      <td>10.5</td>\n",
       "      <td>-73.997280</td>\n",
       "      <td>40.756392</td>\n",
       "      <td>-73.979448</td>\n",
       "      <td>40.776617</td>\n",
       "      <td>2</td>\n",
       "    </tr>\n",
       "    <tr>\n",
       "      <th>67676</th>\n",
       "      <td>18.5</td>\n",
       "      <td>-73.986916</td>\n",
       "      <td>40.756378</td>\n",
       "      <td>-73.960571</td>\n",
       "      <td>40.814308</td>\n",
       "      <td>2</td>\n",
       "    </tr>\n",
       "    <tr>\n",
       "      <th>23346</th>\n",
       "      <td>7.3</td>\n",
       "      <td>-73.974164</td>\n",
       "      <td>40.743048</td>\n",
       "      <td>-73.951747</td>\n",
       "      <td>40.773582</td>\n",
       "      <td>1</td>\n",
       "    </tr>\n",
       "    <tr>\n",
       "      <th>63121</th>\n",
       "      <td>6.1</td>\n",
       "      <td>-73.990287</td>\n",
       "      <td>40.756630</td>\n",
       "      <td>-73.976654</td>\n",
       "      <td>40.755276</td>\n",
       "      <td>1</td>\n",
       "    </tr>\n",
       "    <tr>\n",
       "      <th>...</th>\n",
       "      <td>...</td>\n",
       "      <td>...</td>\n",
       "      <td>...</td>\n",
       "      <td>...</td>\n",
       "      <td>...</td>\n",
       "      <td>...</td>\n",
       "    </tr>\n",
       "    <tr>\n",
       "      <th>87049</th>\n",
       "      <td>5.7</td>\n",
       "      <td>-73.962758</td>\n",
       "      <td>40.775777</td>\n",
       "      <td>-73.962772</td>\n",
       "      <td>40.769102</td>\n",
       "      <td>1</td>\n",
       "    </tr>\n",
       "    <tr>\n",
       "      <th>9311</th>\n",
       "      <td>8.0</td>\n",
       "      <td>-73.983733</td>\n",
       "      <td>40.731897</td>\n",
       "      <td>-73.992332</td>\n",
       "      <td>40.749242</td>\n",
       "      <td>1</td>\n",
       "    </tr>\n",
       "    <tr>\n",
       "      <th>43901</th>\n",
       "      <td>11.0</td>\n",
       "      <td>-73.997681</td>\n",
       "      <td>40.756706</td>\n",
       "      <td>-73.966759</td>\n",
       "      <td>40.795944</td>\n",
       "      <td>2</td>\n",
       "    </tr>\n",
       "    <tr>\n",
       "      <th>82129</th>\n",
       "      <td>9.0</td>\n",
       "      <td>-73.963333</td>\n",
       "      <td>40.774702</td>\n",
       "      <td>-73.969837</td>\n",
       "      <td>40.762297</td>\n",
       "      <td>1</td>\n",
       "    </tr>\n",
       "    <tr>\n",
       "      <th>56482</th>\n",
       "      <td>26.5</td>\n",
       "      <td>-73.865892</td>\n",
       "      <td>40.770470</td>\n",
       "      <td>-73.977453</td>\n",
       "      <td>40.754652</td>\n",
       "      <td>1</td>\n",
       "    </tr>\n",
       "  </tbody>\n",
       "</table>\n",
       "<p>17800 rows × 6 columns</p>\n",
       "</div>"
      ],
      "text/plain": [
       "       fare_amount  pickup_longitude  pickup_latitude  dropoff_longitude  \\\n",
       "12033         13.0        -73.992857        40.755167         -73.997920   \n",
       "80075         10.5        -73.997280        40.756392         -73.979448   \n",
       "67676         18.5        -73.986916        40.756378         -73.960571   \n",
       "23346          7.3        -73.974164        40.743048         -73.951747   \n",
       "63121          6.1        -73.990287        40.756630         -73.976654   \n",
       "...            ...               ...              ...                ...   \n",
       "87049          5.7        -73.962758        40.775777         -73.962772   \n",
       "9311           8.0        -73.983733        40.731897         -73.992332   \n",
       "43901         11.0        -73.997681        40.756706         -73.966759   \n",
       "82129          9.0        -73.963333        40.774702         -73.969837   \n",
       "56482         26.5        -73.865892        40.770470         -73.977453   \n",
       "\n",
       "       dropoff_latitude  passenger_count  \n",
       "12033         40.719575                2  \n",
       "80075         40.776617                2  \n",
       "67676         40.814308                2  \n",
       "23346         40.773582                1  \n",
       "63121         40.755276                1  \n",
       "...                 ...              ...  \n",
       "87049         40.769102                1  \n",
       "9311          40.749242                1  \n",
       "43901         40.795944                2  \n",
       "82129         40.762297                1  \n",
       "56482         40.754652                1  \n",
       "\n",
       "[17800 rows x 6 columns]"
      ]
     },
     "execution_count": 75,
     "metadata": {},
     "output_type": "execute_result"
    }
   ],
   "source": [
    "from sklearn.pipeline import Pipeline\n",
    "from sklearn.preprocessing import StandardScaler\n",
    "\n",
    "taxi_num_pipeline = Pipeline([\n",
    "    (\"imputer\", SimpleImputer(strategy = \"median\")),\n",
    "    (\"standardizer\", StandardScaler())\n",
    "])\n",
    "\n",
    "# We can apply the same transformation as above using\n",
    "# a pipeline to make things more efficient\n",
    "\n",
    "# Note: Have to keep things even between training and test and training\n",
    "\n",
    "taxitestdf = taxi_test\n",
    "\n",
    "taxi_num_test = taxitestdf.select_dtypes(include = [np.number])\n",
    "\n",
    "imputer.fit(taxi_num_test)\n",
    "\n",
    "imputer.transform(taxi_num_test)\n",
    "\n",
    "taxi_num_test"
   ]
  },
  {
   "cell_type": "code",
   "execution_count": 76,
   "id": "f1646359",
   "metadata": {},
   "outputs": [
    {
     "name": "stdout",
     "output_type": "stream",
     "text": [
      "Imputed Taxi Train Data:\n",
      "       fare_amount  pickup_longitude  pickup_latitude  dropoff_longitude  \\\n",
      "53563        24.00        -73.987137        40.759077         -74.017247   \n",
      "3886         11.00        -74.012802        40.702644         -73.979904   \n",
      "81350         5.70        -73.976334        40.776474         -73.980876   \n",
      "27681        57.33        -73.783462        40.648685         -73.984497   \n",
      "23590        10.10        -74.003328        40.743794         -73.970523   \n",
      "\n",
      "       dropoff_latitude  passenger_count  \n",
      "53563         40.705102                4  \n",
      "3886          40.717682                1  \n",
      "81350         40.762365                1  \n",
      "27681         40.783407                1  \n",
      "23590         40.762042                1  \n"
     ]
    }
   ],
   "source": [
    "# Display the first few rows of the DataFrame after imputation\n",
    "print(\"Imputed Taxi Train Data:\")\n",
    "print(taxi_num.head())"
   ]
  },
  {
   "cell_type": "code",
   "execution_count": 77,
   "id": "d0fba817",
   "metadata": {},
   "outputs": [
    {
     "data": {
      "text/html": [
       "<div>\n",
       "<style scoped>\n",
       "    .dataframe tbody tr th:only-of-type {\n",
       "        vertical-align: middle;\n",
       "    }\n",
       "\n",
       "    .dataframe tbody tr th {\n",
       "        vertical-align: top;\n",
       "    }\n",
       "\n",
       "    .dataframe thead th {\n",
       "        text-align: right;\n",
       "    }\n",
       "</style>\n",
       "<table border=\"1\" class=\"dataframe\">\n",
       "  <thead>\n",
       "    <tr style=\"text-align: right;\">\n",
       "      <th></th>\n",
       "      <th>fare_amount</th>\n",
       "      <th>pickup_longitude</th>\n",
       "      <th>pickup_latitude</th>\n",
       "      <th>dropoff_longitude</th>\n",
       "      <th>dropoff_latitude</th>\n",
       "      <th>passenger_count</th>\n",
       "    </tr>\n",
       "  </thead>\n",
       "  <tbody>\n",
       "    <tr>\n",
       "      <th>53563</th>\n",
       "      <td>24.00</td>\n",
       "      <td>-73.987137</td>\n",
       "      <td>40.759077</td>\n",
       "      <td>-74.017247</td>\n",
       "      <td>40.705102</td>\n",
       "      <td>4</td>\n",
       "    </tr>\n",
       "    <tr>\n",
       "      <th>3886</th>\n",
       "      <td>11.00</td>\n",
       "      <td>-74.012802</td>\n",
       "      <td>40.702644</td>\n",
       "      <td>-73.979904</td>\n",
       "      <td>40.717682</td>\n",
       "      <td>1</td>\n",
       "    </tr>\n",
       "    <tr>\n",
       "      <th>81350</th>\n",
       "      <td>5.70</td>\n",
       "      <td>-73.976334</td>\n",
       "      <td>40.776474</td>\n",
       "      <td>-73.980876</td>\n",
       "      <td>40.762365</td>\n",
       "      <td>1</td>\n",
       "    </tr>\n",
       "    <tr>\n",
       "      <th>27681</th>\n",
       "      <td>57.33</td>\n",
       "      <td>-73.783462</td>\n",
       "      <td>40.648685</td>\n",
       "      <td>-73.984497</td>\n",
       "      <td>40.783407</td>\n",
       "      <td>1</td>\n",
       "    </tr>\n",
       "    <tr>\n",
       "      <th>23590</th>\n",
       "      <td>10.10</td>\n",
       "      <td>-74.003328</td>\n",
       "      <td>40.743794</td>\n",
       "      <td>-73.970523</td>\n",
       "      <td>40.762042</td>\n",
       "      <td>1</td>\n",
       "    </tr>\n",
       "    <tr>\n",
       "      <th>...</th>\n",
       "      <td>...</td>\n",
       "      <td>...</td>\n",
       "      <td>...</td>\n",
       "      <td>...</td>\n",
       "      <td>...</td>\n",
       "      <td>...</td>\n",
       "    </tr>\n",
       "    <tr>\n",
       "      <th>6265</th>\n",
       "      <td>16.10</td>\n",
       "      <td>-73.971785</td>\n",
       "      <td>40.756499</td>\n",
       "      <td>-74.013319</td>\n",
       "      <td>40.709354</td>\n",
       "      <td>4</td>\n",
       "    </tr>\n",
       "    <tr>\n",
       "      <th>54886</th>\n",
       "      <td>24.67</td>\n",
       "      <td>-73.864515</td>\n",
       "      <td>40.770517</td>\n",
       "      <td>-73.978920</td>\n",
       "      <td>40.746717</td>\n",
       "      <td>1</td>\n",
       "    </tr>\n",
       "    <tr>\n",
       "      <th>76820</th>\n",
       "      <td>10.50</td>\n",
       "      <td>-73.968138</td>\n",
       "      <td>40.759652</td>\n",
       "      <td>-73.985187</td>\n",
       "      <td>40.727665</td>\n",
       "      <td>1</td>\n",
       "    </tr>\n",
       "    <tr>\n",
       "      <th>860</th>\n",
       "      <td>12.10</td>\n",
       "      <td>-73.987243</td>\n",
       "      <td>40.722410</td>\n",
       "      <td>-73.971620</td>\n",
       "      <td>40.761990</td>\n",
       "      <td>1</td>\n",
       "    </tr>\n",
       "    <tr>\n",
       "      <th>15795</th>\n",
       "      <td>57.33</td>\n",
       "      <td>-73.778682</td>\n",
       "      <td>40.646662</td>\n",
       "      <td>-73.993680</td>\n",
       "      <td>40.752352</td>\n",
       "      <td>1</td>\n",
       "    </tr>\n",
       "  </tbody>\n",
       "</table>\n",
       "<p>71200 rows × 6 columns</p>\n",
       "</div>"
      ],
      "text/plain": [
       "       fare_amount  pickup_longitude  pickup_latitude  dropoff_longitude  \\\n",
       "53563        24.00        -73.987137        40.759077         -74.017247   \n",
       "3886         11.00        -74.012802        40.702644         -73.979904   \n",
       "81350         5.70        -73.976334        40.776474         -73.980876   \n",
       "27681        57.33        -73.783462        40.648685         -73.984497   \n",
       "23590        10.10        -74.003328        40.743794         -73.970523   \n",
       "...            ...               ...              ...                ...   \n",
       "6265         16.10        -73.971785        40.756499         -74.013319   \n",
       "54886        24.67        -73.864515        40.770517         -73.978920   \n",
       "76820        10.50        -73.968138        40.759652         -73.985187   \n",
       "860          12.10        -73.987243        40.722410         -73.971620   \n",
       "15795        57.33        -73.778682        40.646662         -73.993680   \n",
       "\n",
       "       dropoff_latitude  passenger_count  \n",
       "53563         40.705102                4  \n",
       "3886          40.717682                1  \n",
       "81350         40.762365                1  \n",
       "27681         40.783407                1  \n",
       "23590         40.762042                1  \n",
       "...                 ...              ...  \n",
       "6265          40.709354                4  \n",
       "54886         40.746717                1  \n",
       "76820         40.727665                1  \n",
       "860           40.761990                1  \n",
       "15795         40.752352                1  \n",
       "\n",
       "[71200 rows x 6 columns]"
      ]
     },
     "execution_count": 77,
     "metadata": {},
     "output_type": "execute_result"
    }
   ],
   "source": [
    "# To get a better look\n",
    "\n",
    "taxi_num"
   ]
  },
  {
   "cell_type": "code",
   "execution_count": 78,
   "id": "ff611537",
   "metadata": {},
   "outputs": [
    {
     "name": "stdout",
     "output_type": "stream",
     "text": [
      "Imputed Taxi Train Info:\n",
      "<class 'pandas.core.frame.DataFrame'>\n",
      "Int64Index: 71200 entries, 53563 to 15795\n",
      "Data columns (total 6 columns):\n",
      " #   Column             Non-Null Count  Dtype  \n",
      "---  ------             --------------  -----  \n",
      " 0   fare_amount        71200 non-null  float64\n",
      " 1   pickup_longitude   71200 non-null  float64\n",
      " 2   pickup_latitude    71200 non-null  float64\n",
      " 3   dropoff_longitude  71200 non-null  float64\n",
      " 4   dropoff_latitude   71200 non-null  float64\n",
      " 5   passenger_count    71200 non-null  int64  \n",
      "dtypes: float64(5), int64(1)\n",
      "memory usage: 3.8 MB\n",
      "None\n"
     ]
    }
   ],
   "source": [
    "# Display the info of the imputed DataFrame\n",
    "print(\"Imputed Taxi Train Info:\")\n",
    "print(taxi_num.info())"
   ]
  },
  {
   "cell_type": "code",
   "execution_count": 79,
   "id": "989cc438",
   "metadata": {},
   "outputs": [],
   "source": [
    "# Now that we know that there are no null numbers we can move on to organizing the other columns"
   ]
  },
  {
   "cell_type": "code",
   "execution_count": 80,
   "id": "a061e21f",
   "metadata": {},
   "outputs": [],
   "source": [
    "# We need to be able to know the distance traveled but we are only given\n",
    "# longitude and latitude lines. \n",
    "\n",
    "# Since we need to calculate distance on a sphere we can use the Haversine Formula"
   ]
  },
  {
   "cell_type": "code",
   "execution_count": 81,
   "id": "aa336d97",
   "metadata": {},
   "outputs": [
    {
     "data": {
      "text/plain": [
       "53563     6.515956\n",
       "3886      3.238034\n",
       "81350     1.614803\n",
       "27681    22.616091\n",
       "23590     3.428255\n",
       "           ...    \n",
       "6265      6.303082\n",
       "54886     9.992735\n",
       "76820     3.835848\n",
       "860       4.593692\n",
       "15795    21.601278\n",
       "Length: 71200, dtype: float64"
      ]
     },
     "execution_count": 81,
     "metadata": {},
     "output_type": "execute_result"
    }
   ],
   "source": [
    "# Apply to DF\n",
    "import math\n",
    "\n",
    "def hav_dist(lat1, lon1, lat2, lon2):\n",
    "    dLat = np.radians(lat2 - lat1)\n",
    "    dLon = np.radians(lon2 - lon1)\n",
    "    lat1 = np.radians(lat1)\n",
    "    lat2 = np.radians(lat2)\n",
    "    \n",
    "    a = (np.sin(dLat / 2) ** 2 + np.sin(dLon / 2) ** 2 * np.cos(lat1) * np.cos(lat2))\n",
    "    rad = 6371  # Earth's radius in kilometers\n",
    "    c = 2 * np.arcsin(np.sqrt(a))\n",
    "    \n",
    "    distance = rad * c\n",
    "    return distance\n",
    "\n",
    "\n",
    "\n",
    "distance = hav_dist(taxi_num['pickup_latitude'], \n",
    "                                 taxi_num['pickup_longitude'], \n",
    "                                 taxi_num['dropoff_latitude'], \n",
    "                                 taxi_num['dropoff_longitude'])\n",
    "\n",
    "distance"
   ]
  },
  {
   "cell_type": "code",
   "execution_count": 82,
   "id": "a3eb1f24",
   "metadata": {},
   "outputs": [
    {
     "data": {
      "text/html": [
       "<div>\n",
       "<style scoped>\n",
       "    .dataframe tbody tr th:only-of-type {\n",
       "        vertical-align: middle;\n",
       "    }\n",
       "\n",
       "    .dataframe tbody tr th {\n",
       "        vertical-align: top;\n",
       "    }\n",
       "\n",
       "    .dataframe thead th {\n",
       "        text-align: right;\n",
       "    }\n",
       "</style>\n",
       "<table border=\"1\" class=\"dataframe\">\n",
       "  <thead>\n",
       "    <tr style=\"text-align: right;\">\n",
       "      <th></th>\n",
       "      <th>fare_amount</th>\n",
       "      <th>pickup_longitude</th>\n",
       "      <th>pickup_latitude</th>\n",
       "      <th>dropoff_longitude</th>\n",
       "      <th>dropoff_latitude</th>\n",
       "      <th>passenger_count</th>\n",
       "      <th>distance</th>\n",
       "    </tr>\n",
       "  </thead>\n",
       "  <tbody>\n",
       "    <tr>\n",
       "      <th>53563</th>\n",
       "      <td>24.00</td>\n",
       "      <td>-73.987137</td>\n",
       "      <td>40.759077</td>\n",
       "      <td>-74.017247</td>\n",
       "      <td>40.705102</td>\n",
       "      <td>4</td>\n",
       "      <td>6.515956</td>\n",
       "    </tr>\n",
       "    <tr>\n",
       "      <th>3886</th>\n",
       "      <td>11.00</td>\n",
       "      <td>-74.012802</td>\n",
       "      <td>40.702644</td>\n",
       "      <td>-73.979904</td>\n",
       "      <td>40.717682</td>\n",
       "      <td>1</td>\n",
       "      <td>3.238034</td>\n",
       "    </tr>\n",
       "    <tr>\n",
       "      <th>81350</th>\n",
       "      <td>5.70</td>\n",
       "      <td>-73.976334</td>\n",
       "      <td>40.776474</td>\n",
       "      <td>-73.980876</td>\n",
       "      <td>40.762365</td>\n",
       "      <td>1</td>\n",
       "      <td>1.614803</td>\n",
       "    </tr>\n",
       "    <tr>\n",
       "      <th>27681</th>\n",
       "      <td>57.33</td>\n",
       "      <td>-73.783462</td>\n",
       "      <td>40.648685</td>\n",
       "      <td>-73.984497</td>\n",
       "      <td>40.783407</td>\n",
       "      <td>1</td>\n",
       "      <td>22.616091</td>\n",
       "    </tr>\n",
       "    <tr>\n",
       "      <th>23590</th>\n",
       "      <td>10.10</td>\n",
       "      <td>-74.003328</td>\n",
       "      <td>40.743794</td>\n",
       "      <td>-73.970523</td>\n",
       "      <td>40.762042</td>\n",
       "      <td>1</td>\n",
       "      <td>3.428255</td>\n",
       "    </tr>\n",
       "    <tr>\n",
       "      <th>...</th>\n",
       "      <td>...</td>\n",
       "      <td>...</td>\n",
       "      <td>...</td>\n",
       "      <td>...</td>\n",
       "      <td>...</td>\n",
       "      <td>...</td>\n",
       "      <td>...</td>\n",
       "    </tr>\n",
       "    <tr>\n",
       "      <th>6265</th>\n",
       "      <td>16.10</td>\n",
       "      <td>-73.971785</td>\n",
       "      <td>40.756499</td>\n",
       "      <td>-74.013319</td>\n",
       "      <td>40.709354</td>\n",
       "      <td>4</td>\n",
       "      <td>6.303082</td>\n",
       "    </tr>\n",
       "    <tr>\n",
       "      <th>54886</th>\n",
       "      <td>24.67</td>\n",
       "      <td>-73.864515</td>\n",
       "      <td>40.770517</td>\n",
       "      <td>-73.978920</td>\n",
       "      <td>40.746717</td>\n",
       "      <td>1</td>\n",
       "      <td>9.992735</td>\n",
       "    </tr>\n",
       "    <tr>\n",
       "      <th>76820</th>\n",
       "      <td>10.50</td>\n",
       "      <td>-73.968138</td>\n",
       "      <td>40.759652</td>\n",
       "      <td>-73.985187</td>\n",
       "      <td>40.727665</td>\n",
       "      <td>1</td>\n",
       "      <td>3.835848</td>\n",
       "    </tr>\n",
       "    <tr>\n",
       "      <th>860</th>\n",
       "      <td>12.10</td>\n",
       "      <td>-73.987243</td>\n",
       "      <td>40.722410</td>\n",
       "      <td>-73.971620</td>\n",
       "      <td>40.761990</td>\n",
       "      <td>1</td>\n",
       "      <td>4.593692</td>\n",
       "    </tr>\n",
       "    <tr>\n",
       "      <th>15795</th>\n",
       "      <td>57.33</td>\n",
       "      <td>-73.778682</td>\n",
       "      <td>40.646662</td>\n",
       "      <td>-73.993680</td>\n",
       "      <td>40.752352</td>\n",
       "      <td>1</td>\n",
       "      <td>21.601278</td>\n",
       "    </tr>\n",
       "  </tbody>\n",
       "</table>\n",
       "<p>71200 rows × 7 columns</p>\n",
       "</div>"
      ],
      "text/plain": [
       "       fare_amount  pickup_longitude  pickup_latitude  dropoff_longitude  \\\n",
       "53563        24.00        -73.987137        40.759077         -74.017247   \n",
       "3886         11.00        -74.012802        40.702644         -73.979904   \n",
       "81350         5.70        -73.976334        40.776474         -73.980876   \n",
       "27681        57.33        -73.783462        40.648685         -73.984497   \n",
       "23590        10.10        -74.003328        40.743794         -73.970523   \n",
       "...            ...               ...              ...                ...   \n",
       "6265         16.10        -73.971785        40.756499         -74.013319   \n",
       "54886        24.67        -73.864515        40.770517         -73.978920   \n",
       "76820        10.50        -73.968138        40.759652         -73.985187   \n",
       "860          12.10        -73.987243        40.722410         -73.971620   \n",
       "15795        57.33        -73.778682        40.646662         -73.993680   \n",
       "\n",
       "       dropoff_latitude  passenger_count   distance  \n",
       "53563         40.705102                4   6.515956  \n",
       "3886          40.717682                1   3.238034  \n",
       "81350         40.762365                1   1.614803  \n",
       "27681         40.783407                1  22.616091  \n",
       "23590         40.762042                1   3.428255  \n",
       "...                 ...              ...        ...  \n",
       "6265          40.709354                4   6.303082  \n",
       "54886         40.746717                1   9.992735  \n",
       "76820         40.727665                1   3.835848  \n",
       "860           40.761990                1   4.593692  \n",
       "15795         40.752352                1  21.601278  \n",
       "\n",
       "[71200 rows x 7 columns]"
      ]
     },
     "execution_count": 82,
     "metadata": {},
     "output_type": "execute_result"
    }
   ],
   "source": [
    "# Now we should used the function that we created before to create a\n",
    "# Column that describes the total distance traveled\n",
    "\n",
    "taxi_train2 = pd.concat([taxi_num, distance], axis = 1)\n",
    "\n",
    "taxi_train2.rename(columns = {0:\"distance\"}, inplace = True)\n",
    "\n",
    "taxi_train2"
   ]
  },
  {
   "cell_type": "code",
   "execution_count": 83,
   "id": "f2f50719",
   "metadata": {},
   "outputs": [],
   "source": [
    "# We also would like to know more information about the time that these trips take place\n",
    "# Currently, they are in a format that is not all that useful to us"
   ]
  },
  {
   "cell_type": "code",
   "execution_count": 84,
   "id": "3127d854",
   "metadata": {
    "scrolled": true
   },
   "outputs": [
    {
     "data": {
      "image/png": "[encoded data removed]",
      "text/plain": [
       "<Figure size 864x576 with 9 Axes>"
      ]
     },
     "metadata": {
      "needs_background": "light"
     },
     "output_type": "display_data"
    }
   ],
   "source": [
    "import matplotlib.pyplot as plt\n",
    "from pandas.plotting import scatter_matrix\n",
    "\n",
    "attributes = [\"distance\", \"passenger_count\",\n",
    "              \"fare_amount\"]\n",
    "scatter_matrix(taxi_train2[attributes], figsize=(12, 8))\n",
    "plt.show()"
   ]
  },
  {
   "cell_type": "code",
   "execution_count": 85,
   "id": "7df01cc8",
   "metadata": {},
   "outputs": [],
   "source": [
    "# Based on the look of the scatter matrix it seems like there is some scaling that needs to be done"
   ]
  },
  {
   "cell_type": "code",
   "execution_count": 86,
   "id": "e4d331ba",
   "metadata": {},
   "outputs": [
    {
     "data": {
      "text/html": [
       "<div>\n",
       "<style scoped>\n",
       "    .dataframe tbody tr th:only-of-type {\n",
       "        vertical-align: middle;\n",
       "    }\n",
       "\n",
       "    .dataframe tbody tr th {\n",
       "        vertical-align: top;\n",
       "    }\n",
       "\n",
       "    .dataframe thead th {\n",
       "        text-align: right;\n",
       "    }\n",
       "</style>\n",
       "<table border=\"1\" class=\"dataframe\">\n",
       "  <thead>\n",
       "    <tr style=\"text-align: right;\">\n",
       "      <th></th>\n",
       "      <th>fare_amount</th>\n",
       "      <th>pickup_longitude</th>\n",
       "      <th>pickup_latitude</th>\n",
       "      <th>dropoff_longitude</th>\n",
       "      <th>dropoff_latitude</th>\n",
       "      <th>passenger_count</th>\n",
       "      <th>distance</th>\n",
       "    </tr>\n",
       "  </thead>\n",
       "  <tbody>\n",
       "    <tr>\n",
       "      <th>fare_amount</th>\n",
       "      <td>1.000000</td>\n",
       "      <td>0.007149</td>\n",
       "      <td>-0.007285</td>\n",
       "      <td>0.004910</td>\n",
       "      <td>-0.005141</td>\n",
       "      <td>0.015556</td>\n",
       "      <td>0.019314</td>\n",
       "    </tr>\n",
       "    <tr>\n",
       "      <th>pickup_longitude</th>\n",
       "      <td>0.007149</td>\n",
       "      <td>1.000000</td>\n",
       "      <td>-0.960370</td>\n",
       "      <td>0.957954</td>\n",
       "      <td>-0.948459</td>\n",
       "      <td>-0.004193</td>\n",
       "      <td>0.145059</td>\n",
       "    </tr>\n",
       "    <tr>\n",
       "      <th>pickup_latitude</th>\n",
       "      <td>-0.007285</td>\n",
       "      <td>-0.960370</td>\n",
       "      <td>1.000000</td>\n",
       "      <td>-0.923297</td>\n",
       "      <td>0.941141</td>\n",
       "      <td>0.002164</td>\n",
       "      <td>-0.128324</td>\n",
       "    </tr>\n",
       "    <tr>\n",
       "      <th>dropoff_longitude</th>\n",
       "      <td>0.004910</td>\n",
       "      <td>0.957954</td>\n",
       "      <td>-0.923297</td>\n",
       "      <td>1.000000</td>\n",
       "      <td>-0.981988</td>\n",
       "      <td>-0.002825</td>\n",
       "      <td>0.134390</td>\n",
       "    </tr>\n",
       "    <tr>\n",
       "      <th>dropoff_latitude</th>\n",
       "      <td>-0.005141</td>\n",
       "      <td>-0.948459</td>\n",
       "      <td>0.941141</td>\n",
       "      <td>-0.981988</td>\n",
       "      <td>1.000000</td>\n",
       "      <td>0.001595</td>\n",
       "      <td>-0.114983</td>\n",
       "    </tr>\n",
       "    <tr>\n",
       "      <th>passenger_count</th>\n",
       "      <td>0.015556</td>\n",
       "      <td>-0.004193</td>\n",
       "      <td>0.002164</td>\n",
       "      <td>-0.002825</td>\n",
       "      <td>0.001595</td>\n",
       "      <td>1.000000</td>\n",
       "      <td>-0.002253</td>\n",
       "    </tr>\n",
       "    <tr>\n",
       "      <th>distance</th>\n",
       "      <td>0.019314</td>\n",
       "      <td>0.145059</td>\n",
       "      <td>-0.128324</td>\n",
       "      <td>0.134390</td>\n",
       "      <td>-0.114983</td>\n",
       "      <td>-0.002253</td>\n",
       "      <td>1.000000</td>\n",
       "    </tr>\n",
       "  </tbody>\n",
       "</table>\n",
       "</div>"
      ],
      "text/plain": [
       "                   fare_amount  pickup_longitude  pickup_latitude  \\\n",
       "fare_amount           1.000000          0.007149        -0.007285   \n",
       "pickup_longitude      0.007149          1.000000        -0.960370   \n",
       "pickup_latitude      -0.007285         -0.960370         1.000000   \n",
       "dropoff_longitude     0.004910          0.957954        -0.923297   \n",
       "dropoff_latitude     -0.005141         -0.948459         0.941141   \n",
       "passenger_count       0.015556         -0.004193         0.002164   \n",
       "distance              0.019314          0.145059        -0.128324   \n",
       "\n",
       "                   dropoff_longitude  dropoff_latitude  passenger_count  \\\n",
       "fare_amount                 0.004910         -0.005141         0.015556   \n",
       "pickup_longitude            0.957954         -0.948459        -0.004193   \n",
       "pickup_latitude            -0.923297          0.941141         0.002164   \n",
       "dropoff_longitude           1.000000         -0.981988        -0.002825   \n",
       "dropoff_latitude           -0.981988          1.000000         0.001595   \n",
       "passenger_count            -0.002825          0.001595         1.000000   \n",
       "distance                    0.134390         -0.114983        -0.002253   \n",
       "\n",
       "                   distance  \n",
       "fare_amount        0.019314  \n",
       "pickup_longitude   0.145059  \n",
       "pickup_latitude   -0.128324  \n",
       "dropoff_longitude  0.134390  \n",
       "dropoff_latitude  -0.114983  \n",
       "passenger_count   -0.002253  \n",
       "distance           1.000000  "
      ]
     },
     "execution_count": 86,
     "metadata": {},
     "output_type": "execute_result"
    }
   ],
   "source": [
    "# Let's also take a look at a correlation matrix\n",
    "\n",
    "taxi_corr = taxi_train2.corr()\n",
    "\n",
    "taxi_corr"
   ]
  },
  {
   "cell_type": "code",
   "execution_count": 87,
   "id": "7fcf2ec9",
   "metadata": {},
   "outputs": [],
   "source": [
    "# Stronger Correlations between the distance and fare amount"
   ]
  },
  {
   "cell_type": "code",
   "execution_count": 88,
   "id": "996eb714",
   "metadata": {},
   "outputs": [],
   "source": [
    "# Applying the same transformations to the test set\n",
    "\n",
    "distance_test = hav_dist(taxi_num_test['pickup_latitude'], \n",
    "                                 taxi_num_test['pickup_longitude'], \n",
    "                                 taxi_num_test['dropoff_latitude'], \n",
    "                                 taxi_num_test['dropoff_longitude'])\n",
    "\n",
    "#distance_test\n",
    "\n",
    "taxi_test_final = pd.concat([taxi_test, distance_test], axis = 1)\n",
    "\n",
    "taxi_test_final.rename(columns = {0:\"distance\"}, inplace = True)"
   ]
  },
  {
   "cell_type": "markdown",
   "id": "9f00a001",
   "metadata": {},
   "source": [
    "### Working on the Regressors"
   ]
  },
  {
   "cell_type": "code",
   "execution_count": 89,
   "id": "567c990f",
   "metadata": {},
   "outputs": [
    {
     "name": "stdout",
     "output_type": "stream",
     "text": [
      "Test RMSE: 9.567\n"
     ]
    }
   ],
   "source": [
    "# Linear Regressor\n",
    "\n",
    "lr = LinearRegression()\n",
    "\n",
    "X_train= taxi_train2[[\"distance\"]].values\n",
    "y_train= taxi_train2[[\"fare_amount\"]].values\n",
    "X_test= taxi_test2[[\"distance\"]].values\n",
    "y_test= taxi_test2[[\"fare_amount\"]].values\n",
    "\n",
    "lr.fit(X_train, y_train)\n",
    "y_pred = lr.predict(X_test)\n",
    "\n",
    "from sklearn.metrics import mean_squared_error\n",
    "\n",
    "print(\"Test RMSE: %.3f\" % mean_squared_error( y_test, y_pred) ** 0.5)"
   ]
  },
  {
   "cell_type": "code",
   "execution_count": 90,
   "id": "eb37fc49",
   "metadata": {},
   "outputs": [
    {
     "name": "stdout",
     "output_type": "stream",
     "text": [
      "Test RMSE: 4.957\n"
     ]
    }
   ],
   "source": [
    "# RandomForest Regression\n",
    "\n",
    "from sklearn.ensemble import RandomForestRegressor\n",
    "\n",
    "rf = RandomForestRegressor(max_depth=5, random_state=0, n_estimators=200)\n",
    "rf.fit(X_train, y_train.ravel())\n",
    "y_pred = rf.predict(X_test)\n",
    "\n",
    "print(\"Test RMSE: %.3f\" % mean_squared_error( y_test, y_pred) ** 0.5)"
   ]
  },
  {
   "cell_type": "markdown",
   "id": "20081b82",
   "metadata": {},
   "source": [
    "## Our Model, of course, can be improved. Here are some of the features that we could not properly impletement but began working on with hopes of improving our model."
   ]
  },
  {
   "cell_type": "code",
   "execution_count": 34,
   "id": "5344001a",
   "metadata": {},
   "outputs": [
    {
     "ename": "AttributeError",
     "evalue": "'DataFrame' object has no attribute 'to_datetime'",
     "output_type": "error",
     "traceback": [
      "\u001b[1;31m---------------------------------------------------------------------------\u001b[0m",
      "\u001b[1;31mAttributeError\u001b[0m                            Traceback (most recent call last)",
      "\u001b[1;32m<ipython-input-34-5c9d6c6a142a>\u001b[0m in \u001b[0;36m<module>\u001b[1;34m\u001b[0m\n\u001b[0;32m      3\u001b[0m \u001b[1;31m# Dealing with Datetime\u001b[0m\u001b[1;33m\u001b[0m\u001b[1;33m\u001b[0m\u001b[1;33m\u001b[0m\u001b[0m\n\u001b[0;32m      4\u001b[0m \u001b[1;33m\u001b[0m\u001b[0m\n\u001b[1;32m----> 5\u001b[1;33m \u001b[0mtaxi_train\u001b[0m\u001b[1;33m[\u001b[0m\u001b[1;34m'pickup_datetime'\u001b[0m\u001b[1;33m]\u001b[0m \u001b[1;33m=\u001b[0m \u001b[0mtaxi_train2\u001b[0m\u001b[1;33m.\u001b[0m\u001b[0mto_datetime\u001b[0m\u001b[1;33m(\u001b[0m\u001b[0mtaxi_train\u001b[0m\u001b[1;33m.\u001b[0m\u001b[0mpickup_datetime\u001b[0m\u001b[1;33m)\u001b[0m\u001b[1;33m\u001b[0m\u001b[1;33m\u001b[0m\u001b[0m\n\u001b[0m\u001b[0;32m      6\u001b[0m \u001b[0mtaxi_test\u001b[0m\u001b[1;33m[\u001b[0m\u001b[1;34m'pickup_datetime'\u001b[0m\u001b[1;33m]\u001b[0m \u001b[1;33m=\u001b[0m \u001b[0mtaxi_train2\u001b[0m\u001b[1;33m.\u001b[0m\u001b[0mto_datetime\u001b[0m\u001b[1;33m(\u001b[0m\u001b[0mtaxi_test\u001b[0m\u001b[1;33m.\u001b[0m\u001b[0mpickup_datetime\u001b[0m\u001b[1;33m)\u001b[0m\u001b[1;33m\u001b[0m\u001b[1;33m\u001b[0m\u001b[0m\n\u001b[0;32m      7\u001b[0m \u001b[1;33m\u001b[0m\u001b[0m\n",
      "\u001b[1;32m~\\anaconda3\\lib\\site-packages\\pandas\\core\\generic.py\u001b[0m in \u001b[0;36m__getattr__\u001b[1;34m(self, name)\u001b[0m\n\u001b[0;32m   5463\u001b[0m             \u001b[1;32mif\u001b[0m \u001b[0mself\u001b[0m\u001b[1;33m.\u001b[0m\u001b[0m_info_axis\u001b[0m\u001b[1;33m.\u001b[0m\u001b[0m_can_hold_identifiers_and_holds_name\u001b[0m\u001b[1;33m(\u001b[0m\u001b[0mname\u001b[0m\u001b[1;33m)\u001b[0m\u001b[1;33m:\u001b[0m\u001b[1;33m\u001b[0m\u001b[1;33m\u001b[0m\u001b[0m\n\u001b[0;32m   5464\u001b[0m                 \u001b[1;32mreturn\u001b[0m \u001b[0mself\u001b[0m\u001b[1;33m[\u001b[0m\u001b[0mname\u001b[0m\u001b[1;33m]\u001b[0m\u001b[1;33m\u001b[0m\u001b[1;33m\u001b[0m\u001b[0m\n\u001b[1;32m-> 5465\u001b[1;33m             \u001b[1;32mreturn\u001b[0m \u001b[0mobject\u001b[0m\u001b[1;33m.\u001b[0m\u001b[0m__getattribute__\u001b[0m\u001b[1;33m(\u001b[0m\u001b[0mself\u001b[0m\u001b[1;33m,\u001b[0m \u001b[0mname\u001b[0m\u001b[1;33m)\u001b[0m\u001b[1;33m\u001b[0m\u001b[1;33m\u001b[0m\u001b[0m\n\u001b[0m\u001b[0;32m   5466\u001b[0m \u001b[1;33m\u001b[0m\u001b[0m\n\u001b[0;32m   5467\u001b[0m     \u001b[1;32mdef\u001b[0m \u001b[0m__setattr__\u001b[0m\u001b[1;33m(\u001b[0m\u001b[0mself\u001b[0m\u001b[1;33m,\u001b[0m \u001b[0mname\u001b[0m\u001b[1;33m:\u001b[0m \u001b[0mstr\u001b[0m\u001b[1;33m,\u001b[0m \u001b[0mvalue\u001b[0m\u001b[1;33m)\u001b[0m \u001b[1;33m->\u001b[0m \u001b[1;32mNone\u001b[0m\u001b[1;33m:\u001b[0m\u001b[1;33m\u001b[0m\u001b[1;33m\u001b[0m\u001b[0m\n",
      "\u001b[1;31mAttributeError\u001b[0m: 'DataFrame' object has no attribute 'to_datetime'"
     ]
    }
   ],
   "source": [
    "# Results appear to be skewed due to the differences in scaling between features\n",
    "\n",
    "# Dealing with Datetime\n",
    "\n",
    "taxi_train['pickup_datetime'] = taxi_train2.to_datetime(taxi_train.pickup_datetime)\n",
    "taxi_test['pickup_datetime'] = taxi_train2.to_datetime(taxi_test.pickup_datetime)\n",
    "\n",
    "\n",
    "## We want to be able to work with daytime feature in a way that is useful"
   ]
  },
  {
   "cell_type": "code",
   "execution_count": 10,
   "id": "30e6c40d",
   "metadata": {
    "scrolled": false
   },
   "outputs": [
    {
     "ename": "AttributeError",
     "evalue": "'Series' object has no attribute 'taxi_train'",
     "output_type": "error",
     "traceback": [
      "\u001b[1;31m---------------------------------------------------------------------------\u001b[0m",
      "\u001b[1;31mAttributeError\u001b[0m                            Traceback (most recent call last)",
      "\u001b[1;32m<ipython-input-10-8d2a5c13e895>\u001b[0m in \u001b[0;36m<module>\u001b[1;34m\u001b[0m\n\u001b[0;32m      1\u001b[0m \u001b[1;31m# Since there is a lot to be known from the time of pickup we need to separate information\u001b[0m\u001b[1;33m\u001b[0m\u001b[1;33m\u001b[0m\u001b[1;33m\u001b[0m\u001b[0m\n\u001b[0;32m      2\u001b[0m \u001b[1;33m\u001b[0m\u001b[0m\n\u001b[1;32m----> 3\u001b[1;33m \u001b[0mtaxi_train\u001b[0m\u001b[1;33m.\u001b[0m\u001b[0mloc\u001b[0m\u001b[1;33m[\u001b[0m\u001b[1;33m:\u001b[0m\u001b[1;33m,\u001b[0m \u001b[1;34m'pickup_hour'\u001b[0m\u001b[1;33m]\u001b[0m \u001b[1;33m=\u001b[0m \u001b[0mtaxi_train\u001b[0m\u001b[1;33m[\u001b[0m\u001b[1;34m'pickup_datetime'\u001b[0m\u001b[1;33m]\u001b[0m\u001b[1;33m.\u001b[0m\u001b[0mtaxi_train\u001b[0m\u001b[1;33m.\u001b[0m\u001b[0mhour\u001b[0m\u001b[1;33m\u001b[0m\u001b[1;33m\u001b[0m\u001b[0m\n\u001b[0m\u001b[0;32m      4\u001b[0m \u001b[0mtaxi_train\u001b[0m\u001b[1;33m.\u001b[0m\u001b[0mloc\u001b[0m\u001b[1;33m[\u001b[0m\u001b[1;33m:\u001b[0m\u001b[1;33m,\u001b[0m \u001b[1;34m'pickup_weekday'\u001b[0m\u001b[1;33m]\u001b[0m \u001b[1;33m=\u001b[0m \u001b[0mtaxi_train\u001b[0m\u001b[1;33m[\u001b[0m\u001b[1;34m'pickup_datetime'\u001b[0m\u001b[1;33m]\u001b[0m\u001b[1;33m.\u001b[0m\u001b[0mtaxi_train\u001b[0m\u001b[1;33m.\u001b[0m\u001b[0mday_name\u001b[0m\u001b[1;33m(\u001b[0m\u001b[1;33m)\u001b[0m\u001b[1;33m\u001b[0m\u001b[1;33m\u001b[0m\u001b[0m\n\u001b[0;32m      5\u001b[0m \u001b[0mtaxi_train\u001b[0m\u001b[1;33m.\u001b[0m\u001b[0mloc\u001b[0m\u001b[1;33m[\u001b[0m\u001b[1;33m:\u001b[0m\u001b[1;33m,\u001b[0m \u001b[1;34m'pickup_date'\u001b[0m\u001b[1;33m]\u001b[0m \u001b[1;33m=\u001b[0m \u001b[0mtaxi_train\u001b[0m\u001b[1;33m[\u001b[0m\u001b[1;34m'pickup_datetime'\u001b[0m\u001b[1;33m]\u001b[0m\u001b[1;33m.\u001b[0m\u001b[0mdtaxi_train\u001b[0m\u001b[1;33m.\u001b[0m\u001b[0mday\u001b[0m\u001b[1;33m\u001b[0m\u001b[1;33m\u001b[0m\u001b[0m\n",
      "\u001b[1;32m~\\anaconda3\\lib\\site-packages\\pandas\\core\\generic.py\u001b[0m in \u001b[0;36m__getattr__\u001b[1;34m(self, name)\u001b[0m\n\u001b[0;32m   5463\u001b[0m             \u001b[1;32mif\u001b[0m \u001b[0mself\u001b[0m\u001b[1;33m.\u001b[0m\u001b[0m_info_axis\u001b[0m\u001b[1;33m.\u001b[0m\u001b[0m_can_hold_identifiers_and_holds_name\u001b[0m\u001b[1;33m(\u001b[0m\u001b[0mname\u001b[0m\u001b[1;33m)\u001b[0m\u001b[1;33m:\u001b[0m\u001b[1;33m\u001b[0m\u001b[1;33m\u001b[0m\u001b[0m\n\u001b[0;32m   5464\u001b[0m                 \u001b[1;32mreturn\u001b[0m \u001b[0mself\u001b[0m\u001b[1;33m[\u001b[0m\u001b[0mname\u001b[0m\u001b[1;33m]\u001b[0m\u001b[1;33m\u001b[0m\u001b[1;33m\u001b[0m\u001b[0m\n\u001b[1;32m-> 5465\u001b[1;33m             \u001b[1;32mreturn\u001b[0m \u001b[0mobject\u001b[0m\u001b[1;33m.\u001b[0m\u001b[0m__getattribute__\u001b[0m\u001b[1;33m(\u001b[0m\u001b[0mself\u001b[0m\u001b[1;33m,\u001b[0m \u001b[0mname\u001b[0m\u001b[1;33m)\u001b[0m\u001b[1;33m\u001b[0m\u001b[1;33m\u001b[0m\u001b[0m\n\u001b[0m\u001b[0;32m   5466\u001b[0m \u001b[1;33m\u001b[0m\u001b[0m\n\u001b[0;32m   5467\u001b[0m     \u001b[1;32mdef\u001b[0m \u001b[0m__setattr__\u001b[0m\u001b[1;33m(\u001b[0m\u001b[0mself\u001b[0m\u001b[1;33m,\u001b[0m \u001b[0mname\u001b[0m\u001b[1;33m:\u001b[0m \u001b[0mstr\u001b[0m\u001b[1;33m,\u001b[0m \u001b[0mvalue\u001b[0m\u001b[1;33m)\u001b[0m \u001b[1;33m->\u001b[0m \u001b[1;32mNone\u001b[0m\u001b[1;33m:\u001b[0m\u001b[1;33m\u001b[0m\u001b[1;33m\u001b[0m\u001b[0m\n",
      "\u001b[1;31mAttributeError\u001b[0m: 'Series' object has no attribute 'taxi_train'"
     ]
    }
   ],
   "source": [
    "# Failed Version of Haversine Function\n",
    "\n",
    "import math\n",
    "\n",
    "def haversine(lat1, lon1, lat2, lon2):\n",
    "\n",
    "    # Coordinates in decimal degrees (e.g. 2.89078, 12.79797)\n",
    "    #lon1, lat1 = coord1\n",
    "    #lon2, lat2 = coord2\n",
    "\n",
    "    R = 6371000  # radius of Earth in meters\n",
    "    phi_1 = math.radians(lat1)\n",
    "    phi_2 = math.radians(lat2)\n",
    "\n",
    "    delta_phi = math.radians(lat2 - lat1)\n",
    "    delta_lambda = math.radians(lon2 - lon1)\n",
    "\n",
    "    a = math.sin(delta_phi / 2.0) ** 2 + math.cos(phi_1) * math.cos(phi_2) * math.sin(delta_lambda / 2.0) ** 2\n",
    "    \n",
    "    c = 2 * math.atan2(math.sqrt(a), math.sqrt(1 - a))\n",
    "\n",
    "    meters = R * c  # output distance in meters\n",
    "    km = meters / 1000.0  # output distance in kilometers\n",
    "\n",
    "    meters = round(meters, 3)\n",
    "    km = round(km, 3)\n",
    "\n",
    "    return km"
   ]
  },
  {
   "cell_type": "code",
   "execution_count": null,
   "id": "f4117e55",
   "metadata": {},
   "outputs": [],
   "source": []
  },
  {
   "cell_type": "code",
   "execution_count": null,
   "id": "34b70b92",
   "metadata": {},
   "outputs": [],
   "source": []
  }
 ],
 "metadata": {
  "kernelspec": {
   "display_name": "Python 3",
   "language": "python",
   "name": "python3"
  },
  "language_info": {
   "codemirror_mode": {
    "name": "ipython",
    "version": 3
   },
   "file_extension": ".py",
   "mimetype": "text/x-python",
   "name": "python",
   "nbconvert_exporter": "python",
   "pygments_lexer": "ipython3",
   "version": "3.8.8"
  }
 },
 "nbformat": 4,
 "nbformat_minor": 5
}
