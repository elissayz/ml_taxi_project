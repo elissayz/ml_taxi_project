{
 "cells": [
  {
   "cell_type": "code",
   "execution_count": 1,
   "id": "2cb5656c-da7a-4ed5-b947-4f6b6415b51b",
   "metadata": {},
   "outputs": [],
   "source": [
    "# Machine Learning Code"
   ]
  },
  {
   "cell_type": "code",
   "execution_count": 2,
   "id": "423840f6-43cf-4009-b5ba-708577cc52c4",
   "metadata": {},
   "outputs": [],
   "source": [
    "# In order to start we need to Load in some "
   ]
  },
  {
   "cell_type": "code",
   "execution_count": 28,
   "id": "50ce20d7-dc9f-419b-a4c6-5431aabd55c5",
   "metadata": {},
   "outputs": [],
   "source": [
    "# Intro ML Group Project\n",
    "from packaging import version\n",
    "import sklearn\n",
    "import matplotlib.pyplot as plt\n",
    "\n",
    "from pathlib import Path\n",
    "import pandas as pd\n",
    "import numpy as np\n",
    "from sklearn.linear_model import LinearRegression\n",
    "from sklearn.impute import SimpleImputer  # Import the imputer"
   ]
  },
  {
   "cell_type": "code",
   "execution_count": 9,
   "id": "93b662ce-5521-4fa8-9868-dd7e969d8a7c",
   "metadata": {},
   "outputs": [],
   "source": [
    "# Now, we can load the data set so that we can explore all the features."
   ]
  },
  {
   "cell_type": "code",
   "execution_count": 10,
   "id": "befa02f4-4356-4c07-8a8d-890e4eea4cd1",
   "metadata": {},
   "outputs": [],
   "source": [
    "# Loading in the training data set\n",
    "\n",
    "taxi_train = pd.read_csv(\"train.csv\", nrows=30000)"
   ]
  },
  {
   "cell_type": "code",
   "execution_count": 11,
   "id": "46258f48",
   "metadata": {},
   "outputs": [],
   "source": [
    "# Now for the test data set\n",
    "\n",
    "taxi_test  = pd.read_csv(\"test.csv\")"
   ]
  },
  {
   "cell_type": "code",
   "execution_count": null,
   "id": "a13fda0f-3403-412c-8de6-8f7febe87a98",
   "metadata": {},
   "outputs": [],
   "source": [
    "# Now we have to explore the data set"
   ]
  },
  {
   "cell_type": "code",
   "execution_count": 5,
   "id": "f4070073",
   "metadata": {
    "scrolled": true
   },
   "outputs": [
    {
     "data": {
      "text/html": [
       "<div>\n",
       "<style scoped>\n",
       "    .dataframe tbody tr th:only-of-type {\n",
       "        vertical-align: middle;\n",
       "    }\n",
       "\n",
       "    .dataframe tbody tr th {\n",
       "        vertical-align: top;\n",
       "    }\n",
       "\n",
       "    .dataframe thead th {\n",
       "        text-align: right;\n",
       "    }\n",
       "</style>\n",
       "<table border=\"1\" class=\"dataframe\">\n",
       "  <thead>\n",
       "    <tr style=\"text-align: right;\">\n",
       "      <th></th>\n",
       "      <th>key</th>\n",
       "      <th>fare_amount</th>\n",
       "      <th>pickup_datetime</th>\n",
       "      <th>pickup_longitude</th>\n",
       "      <th>pickup_latitude</th>\n",
       "      <th>dropoff_longitude</th>\n",
       "      <th>dropoff_latitude</th>\n",
       "      <th>passenger_count</th>\n",
       "    </tr>\n",
       "  </thead>\n",
       "  <tbody>\n",
       "    <tr>\n",
       "      <th>0</th>\n",
       "      <td>2009-06-15 17:26:21.0000001</td>\n",
       "      <td>4.5</td>\n",
       "      <td>2009-06-15 17:26:21 UTC</td>\n",
       "      <td>-73.844311</td>\n",
       "      <td>40.721319</td>\n",
       "      <td>-73.841610</td>\n",
       "      <td>40.712278</td>\n",
       "      <td>1</td>\n",
       "    </tr>\n",
       "    <tr>\n",
       "      <th>1</th>\n",
       "      <td>2010-01-05 16:52:16.0000002</td>\n",
       "      <td>16.9</td>\n",
       "      <td>2010-01-05 16:52:16 UTC</td>\n",
       "      <td>-74.016048</td>\n",
       "      <td>40.711303</td>\n",
       "      <td>-73.979268</td>\n",
       "      <td>40.782004</td>\n",
       "      <td>1</td>\n",
       "    </tr>\n",
       "    <tr>\n",
       "      <th>2</th>\n",
       "      <td>2011-08-18 00:35:00.00000049</td>\n",
       "      <td>5.7</td>\n",
       "      <td>2011-08-18 00:35:00 UTC</td>\n",
       "      <td>-73.982738</td>\n",
       "      <td>40.761270</td>\n",
       "      <td>-73.991242</td>\n",
       "      <td>40.750562</td>\n",
       "      <td>2</td>\n",
       "    </tr>\n",
       "    <tr>\n",
       "      <th>3</th>\n",
       "      <td>2012-04-21 04:30:42.0000001</td>\n",
       "      <td>7.7</td>\n",
       "      <td>2012-04-21 04:30:42 UTC</td>\n",
       "      <td>-73.987130</td>\n",
       "      <td>40.733143</td>\n",
       "      <td>-73.991567</td>\n",
       "      <td>40.758092</td>\n",
       "      <td>1</td>\n",
       "    </tr>\n",
       "    <tr>\n",
       "      <th>4</th>\n",
       "      <td>2010-03-09 07:51:00.000000135</td>\n",
       "      <td>5.3</td>\n",
       "      <td>2010-03-09 07:51:00 UTC</td>\n",
       "      <td>-73.968095</td>\n",
       "      <td>40.768008</td>\n",
       "      <td>-73.956655</td>\n",
       "      <td>40.783762</td>\n",
       "      <td>1</td>\n",
       "    </tr>\n",
       "  </tbody>\n",
       "</table>\n",
       "</div>"
      ],
      "text/plain": [
       "                             key  fare_amount          pickup_datetime  \\\n",
       "0    2009-06-15 17:26:21.0000001          4.5  2009-06-15 17:26:21 UTC   \n",
       "1    2010-01-05 16:52:16.0000002         16.9  2010-01-05 16:52:16 UTC   \n",
       "2   2011-08-18 00:35:00.00000049          5.7  2011-08-18 00:35:00 UTC   \n",
       "3    2012-04-21 04:30:42.0000001          7.7  2012-04-21 04:30:42 UTC   \n",
       "4  2010-03-09 07:51:00.000000135          5.3  2010-03-09 07:51:00 UTC   \n",
       "\n",
       "   pickup_longitude  pickup_latitude  dropoff_longitude  dropoff_latitude  \\\n",
       "0        -73.844311        40.721319         -73.841610         40.712278   \n",
       "1        -74.016048        40.711303         -73.979268         40.782004   \n",
       "2        -73.982738        40.761270         -73.991242         40.750562   \n",
       "3        -73.987130        40.733143         -73.991567         40.758092   \n",
       "4        -73.968095        40.768008         -73.956655         40.783762   \n",
       "\n",
       "   passenger_count  \n",
       "0                1  \n",
       "1                1  \n",
       "2                2  \n",
       "3                1  \n",
       "4                1  "
      ]
     },
     "execution_count": 5,
     "metadata": {},
     "output_type": "execute_result"
    }
   ],
   "source": [
    "taxi_train.head()"
   ]
  },
  {
   "cell_type": "code",
   "execution_count": 15,
   "id": "dc89901b",
   "metadata": {},
   "outputs": [
    {
     "name": "stdout",
     "output_type": "stream",
     "text": [
      "<class 'pandas.core.frame.DataFrame'>\n",
      "RangeIndex: 30000 entries, 0 to 29999\n",
      "Data columns (total 8 columns):\n",
      " #   Column             Non-Null Count  Dtype  \n",
      "---  ------             --------------  -----  \n",
      " 0   key                30000 non-null  object \n",
      " 1   fare_amount        30000 non-null  float64\n",
      " 2   pickup_datetime    30000 non-null  object \n",
      " 3   pickup_longitude   30000 non-null  float64\n",
      " 4   pickup_latitude    30000 non-null  float64\n",
      " 5   dropoff_longitude  30000 non-null  float64\n",
      " 6   dropoff_latitude   30000 non-null  float64\n",
      " 7   passenger_count    30000 non-null  int64  \n",
      "dtypes: float64(5), int64(1), object(2)\n",
      "memory usage: 1.8+ MB\n"
     ]
    }
   ],
   "source": [
    "# A better way to get an idea of what is happening in the data set\n",
    "\n",
    "taxi_train.info()"
   ]
  },
  {
   "cell_type": "code",
   "execution_count": 91,
   "id": "5b3e5179",
   "metadata": {},
   "outputs": [
    {
     "data": {
      "text/plain": [
       "Text(0.5, 1.0, 'Instances per Fare Amount, in Dollars')"
      ]
     },
     "execution_count": 91,
     "metadata": {},
     "output_type": "execute_result"
    },
    {
     "data": {
      "image/png": "[encoded data removed]",
      "text/plain": [
       "<Figure size 720x216 with 1 Axes>"
      ]
     },
     "metadata": {
      "needs_background": "light"
     },
     "output_type": "display_data"
    }
   ],
   "source": [
    "# From the above command we see that we have two object type attributes,\n",
    "# one integer attribute, and five float type attributes.\n",
    "\n",
    "# We can have a better understanding of the scales of the different attributes\n",
    "# By visualizing them\n",
    "\n",
    "taxi_train[taxi_train.fare_amount <60].fare_amount.hist(bins = 100,\n",
    "                                                         figsize = (10,3))\n",
    "\n",
    "plt.xlabel(\"Fare Amount\")\n",
    "plt.title(\"Instances per Fare Amount, in Dollars\")"
   ]
  },
  {
   "cell_type": "code",
   "execution_count": null,
   "id": "97638a82",
   "metadata": {},
   "outputs": [],
   "source": [
    "# From afar it seems like most of the fare amounts are between \n",
    "# 0 and 20 Dollars, this is something that we can take into consideration when scaling "
   ]
  },
  {
   "cell_type": "code",
   "execution_count": 98,
   "id": "d54f7179",
   "metadata": {},
   "outputs": [
    {
     "data": {
      "text/plain": [
       "Text(0.5, 1.0, 'Instances per Passenger Number')"
      ]
     },
     "execution_count": 98,
     "metadata": {},
     "output_type": "execute_result"
    },
    {
     "data": {
      "image/png": "[encoded data removed]",
      "text/plain": [
       "<Figure size 1080x288 with 1 Axes>"
      ]
     },
     "metadata": {
      "needs_background": "light"
     },
     "output_type": "display_data"
    }
   ],
   "source": [
    "# Lets also take a look at the passenger count\n",
    "\n",
    "taxi_train[taxi_train.passenger_count <20].fare_amount.hist(bins = 20,\n",
    "                                                         figsize = (15,4))\n",
    "\n",
    "plt.xlabel(\"Passenger Count\")\n",
    "plt.title(\"Instances per Passenger Number\")"
   ]
  },
  {
   "cell_type": "code",
   "execution_count": 46,
   "id": "8658ce17",
   "metadata": {},
   "outputs": [
    {
     "data": {
      "text/plain": [
       "array([[  4.5     , -73.844311,  40.721319, -73.84161 ,  40.712278,\n",
       "          1.      ],\n",
       "       [ 16.9     , -74.016048,  40.711303, -73.979268,  40.782004,\n",
       "          1.      ],\n",
       "       [  5.7     , -73.982738,  40.76127 , -73.991242,  40.750562,\n",
       "          2.      ],\n",
       "       ...,\n",
       "       [ 15.5     , -73.982182,  40.731252, -73.952945,  40.780147,\n",
       "          6.      ],\n",
       "       [  7.3     , -73.989976,  40.762094, -74.005835,  40.741211,\n",
       "          1.      ],\n",
       "       [  9.3     , -73.963987,  40.77368 , -73.972325,  40.760127,\n",
       "          5.      ]])"
      ]
     },
     "execution_count": 46,
     "metadata": {},
     "output_type": "execute_result"
    }
   ],
   "source": [
    "# Impute missing values with the mean for Taxi Fare column\n",
    "\n",
    "taxidf = taxi_train\n",
    "\n",
    "imputer = SimpleImputer(strategy=\"mean\")\n",
    "\n",
    "taxi_num = taxidf.select_dtypes(include = [np.number])\n",
    "\n",
    "imputer.fit(taxi_num)\n",
    "\n",
    "imputer.transform(taxi_num)"
   ]
  },
  {
   "cell_type": "code",
   "execution_count": 47,
   "id": "c537c036",
   "metadata": {},
   "outputs": [],
   "source": [
    "from sklearn.pipeline import Pipeline\n",
    "from sklearn.preprocessing import StandardScaler\n",
    "\n",
    "taxi_num_pipeline = Pipeline([\n",
    "    (\"imputer\", SimpleImputer(strategy = \"median\")),\n",
    "    (\"standardizer\", StandardScaler())\n",
    "])\n",
    "\n",
    "# We can apply the same transformation as above using\n",
    "# a pipeline to make things more efficient\n",
    "\n",
    "# Note: Have to keep things even between training and test and training\n",
    "\n",
    "\n",
    "taxidf_test = taxi_test\n",
    "\n",
    "#taxi_num_test = taxidf_test.select_dtypes(include = [np.number])\n",
    "\n",
    "taxi_test = taxi_num_pipeline.fit_transform(taxi_test)"
   ]
  },
  {
   "cell_type": "code",
   "execution_count": 102,
   "id": "f1646359",
   "metadata": {},
   "outputs": [
    {
     "name": "stdout",
     "output_type": "stream",
     "text": [
      "Imputed Taxi Train Data:\n",
      "                             key  fare_amount          pickup_datetime  \\\n",
      "0    2009-06-15 17:26:21.0000001          4.5  2009-06-15 17:26:21 UTC   \n",
      "1    2010-01-05 16:52:16.0000002         16.9  2010-01-05 16:52:16 UTC   \n",
      "2   2011-08-18 00:35:00.00000049          5.7  2011-08-18 00:35:00 UTC   \n",
      "3    2012-04-21 04:30:42.0000001          7.7  2012-04-21 04:30:42 UTC   \n",
      "4  2010-03-09 07:51:00.000000135          5.3  2010-03-09 07:51:00 UTC   \n",
      "\n",
      "   pickup_longitude  pickup_latitude  dropoff_longitude  dropoff_latitude  \\\n",
      "0        -73.844311        40.721319         -73.841610         40.712278   \n",
      "1        -74.016048        40.711303         -73.979268         40.782004   \n",
      "2        -73.982738        40.761270         -73.991242         40.750562   \n",
      "3        -73.987130        40.733143         -73.991567         40.758092   \n",
      "4        -73.968095        40.768008         -73.956655         40.783762   \n",
      "\n",
      "   passenger_count  \n",
      "0                1  \n",
      "1                1  \n",
      "2                2  \n",
      "3                1  \n",
      "4                1  \n"
     ]
    }
   ],
   "source": [
    "# Display the first few rows of the DataFrame after imputation\n",
    "print(\"Imputed Taxi Train Data:\")\n",
    "print(taxidf.head())"
   ]
  },
  {
   "cell_type": "code",
   "execution_count": 56,
   "id": "e66c6db3",
   "metadata": {},
   "outputs": [
    {
     "data": {
      "text/html": [
       "<div>\n",
       "<style scoped>\n",
       "    .dataframe tbody tr th:only-of-type {\n",
       "        vertical-align: middle;\n",
       "    }\n",
       "\n",
       "    .dataframe tbody tr th {\n",
       "        vertical-align: top;\n",
       "    }\n",
       "\n",
       "    .dataframe thead th {\n",
       "        text-align: right;\n",
       "    }\n",
       "</style>\n",
       "<table border=\"1\" class=\"dataframe\">\n",
       "  <thead>\n",
       "    <tr style=\"text-align: right;\">\n",
       "      <th></th>\n",
       "      <th>fare_amount</th>\n",
       "      <th>pickup_longitude</th>\n",
       "      <th>pickup_latitude</th>\n",
       "      <th>dropoff_longitude</th>\n",
       "      <th>dropoff_latitude</th>\n",
       "      <th>passenger_count</th>\n",
       "    </tr>\n",
       "  </thead>\n",
       "  <tbody>\n",
       "    <tr>\n",
       "      <th>0</th>\n",
       "      <td>4.5</td>\n",
       "      <td>-73.844311</td>\n",
       "      <td>40.721319</td>\n",
       "      <td>-73.841610</td>\n",
       "      <td>40.712278</td>\n",
       "      <td>1</td>\n",
       "    </tr>\n",
       "    <tr>\n",
       "      <th>1</th>\n",
       "      <td>16.9</td>\n",
       "      <td>-74.016048</td>\n",
       "      <td>40.711303</td>\n",
       "      <td>-73.979268</td>\n",
       "      <td>40.782004</td>\n",
       "      <td>1</td>\n",
       "    </tr>\n",
       "    <tr>\n",
       "      <th>2</th>\n",
       "      <td>5.7</td>\n",
       "      <td>-73.982738</td>\n",
       "      <td>40.761270</td>\n",
       "      <td>-73.991242</td>\n",
       "      <td>40.750562</td>\n",
       "      <td>2</td>\n",
       "    </tr>\n",
       "    <tr>\n",
       "      <th>3</th>\n",
       "      <td>7.7</td>\n",
       "      <td>-73.987130</td>\n",
       "      <td>40.733143</td>\n",
       "      <td>-73.991567</td>\n",
       "      <td>40.758092</td>\n",
       "      <td>1</td>\n",
       "    </tr>\n",
       "    <tr>\n",
       "      <th>4</th>\n",
       "      <td>5.3</td>\n",
       "      <td>-73.968095</td>\n",
       "      <td>40.768008</td>\n",
       "      <td>-73.956655</td>\n",
       "      <td>40.783762</td>\n",
       "      <td>1</td>\n",
       "    </tr>\n",
       "    <tr>\n",
       "      <th>...</th>\n",
       "      <td>...</td>\n",
       "      <td>...</td>\n",
       "      <td>...</td>\n",
       "      <td>...</td>\n",
       "      <td>...</td>\n",
       "      <td>...</td>\n",
       "    </tr>\n",
       "    <tr>\n",
       "      <th>29995</th>\n",
       "      <td>4.5</td>\n",
       "      <td>-73.991408</td>\n",
       "      <td>40.727064</td>\n",
       "      <td>-73.990996</td>\n",
       "      <td>40.733553</td>\n",
       "      <td>1</td>\n",
       "    </tr>\n",
       "    <tr>\n",
       "      <th>29996</th>\n",
       "      <td>8.1</td>\n",
       "      <td>-73.955678</td>\n",
       "      <td>40.782552</td>\n",
       "      <td>-73.979262</td>\n",
       "      <td>40.771807</td>\n",
       "      <td>5</td>\n",
       "    </tr>\n",
       "    <tr>\n",
       "      <th>29997</th>\n",
       "      <td>15.5</td>\n",
       "      <td>-73.982182</td>\n",
       "      <td>40.731252</td>\n",
       "      <td>-73.952945</td>\n",
       "      <td>40.780147</td>\n",
       "      <td>6</td>\n",
       "    </tr>\n",
       "    <tr>\n",
       "      <th>29998</th>\n",
       "      <td>7.3</td>\n",
       "      <td>-73.989976</td>\n",
       "      <td>40.762094</td>\n",
       "      <td>-74.005835</td>\n",
       "      <td>40.741211</td>\n",
       "      <td>1</td>\n",
       "    </tr>\n",
       "    <tr>\n",
       "      <th>29999</th>\n",
       "      <td>9.3</td>\n",
       "      <td>-73.963987</td>\n",
       "      <td>40.773680</td>\n",
       "      <td>-73.972325</td>\n",
       "      <td>40.760127</td>\n",
       "      <td>5</td>\n",
       "    </tr>\n",
       "  </tbody>\n",
       "</table>\n",
       "<p>30000 rows × 6 columns</p>\n",
       "</div>"
      ],
      "text/plain": [
       "       fare_amount  pickup_longitude  pickup_latitude  dropoff_longitude  \\\n",
       "0              4.5        -73.844311        40.721319         -73.841610   \n",
       "1             16.9        -74.016048        40.711303         -73.979268   \n",
       "2              5.7        -73.982738        40.761270         -73.991242   \n",
       "3              7.7        -73.987130        40.733143         -73.991567   \n",
       "4              5.3        -73.968095        40.768008         -73.956655   \n",
       "...            ...               ...              ...                ...   \n",
       "29995          4.5        -73.991408        40.727064         -73.990996   \n",
       "29996          8.1        -73.955678        40.782552         -73.979262   \n",
       "29997         15.5        -73.982182        40.731252         -73.952945   \n",
       "29998          7.3        -73.989976        40.762094         -74.005835   \n",
       "29999          9.3        -73.963987        40.773680         -73.972325   \n",
       "\n",
       "       dropoff_latitude  passenger_count  \n",
       "0             40.712278                1  \n",
       "1             40.782004                1  \n",
       "2             40.750562                2  \n",
       "3             40.758092                1  \n",
       "4             40.783762                1  \n",
       "...                 ...              ...  \n",
       "29995         40.733553                1  \n",
       "29996         40.771807                5  \n",
       "29997         40.780147                6  \n",
       "29998         40.741211                1  \n",
       "29999         40.760127                5  \n",
       "\n",
       "[30000 rows x 6 columns]"
      ]
     },
     "execution_count": 56,
     "metadata": {},
     "output_type": "execute_result"
    }
   ],
   "source": [
    "# To get a better look\n",
    "\n",
    "taxi_num"
   ]
  },
  {
   "cell_type": "code",
   "execution_count": 103,
   "id": "ff611537",
   "metadata": {},
   "outputs": [
    {
     "name": "stdout",
     "output_type": "stream",
     "text": [
      "Imputed Taxi Train Info:\n",
      "<class 'pandas.core.frame.DataFrame'>\n",
      "RangeIndex: 30000 entries, 0 to 29999\n",
      "Data columns (total 8 columns):\n",
      " #   Column             Non-Null Count  Dtype  \n",
      "---  ------             --------------  -----  \n",
      " 0   key                30000 non-null  object \n",
      " 1   fare_amount        30000 non-null  float64\n",
      " 2   pickup_datetime    30000 non-null  object \n",
      " 3   pickup_longitude   30000 non-null  float64\n",
      " 4   pickup_latitude    30000 non-null  float64\n",
      " 5   dropoff_longitude  30000 non-null  float64\n",
      " 6   dropoff_latitude   30000 non-null  float64\n",
      " 7   passenger_count    30000 non-null  int64  \n",
      "dtypes: float64(5), int64(1), object(2)\n",
      "memory usage: 1.8+ MB\n",
      "None\n"
     ]
    }
   ],
   "source": [
    "# Display the info of the imputed DataFrame\n",
    "print(\"Imputed Taxi Train Info:\")\n",
    "print(taxidf.info())"
   ]
  },
  {
   "cell_type": "code",
   "execution_count": null,
   "id": "4fa6acb2",
   "metadata": {},
   "outputs": [],
   "source": [
    "# Now that we know that there are no null numbers we can move on to organizing the other columns"
   ]
  },
  {
   "cell_type": "code",
   "execution_count": 73,
   "id": "e8893c53",
   "metadata": {},
   "outputs": [],
   "source": [
    "# We need to be able to know the distance traveled but we are only given\n",
    "# longitude and latitude lines. \n",
    "\n",
    "# Since we need to calculate distance on a sphere we can use the Haversine Formula\n",
    "# Failed Version of HAversine Function\n",
    "\n",
    "import math\n",
    "\n",
    "def haversine(lat1, lon1, lat2, lon2):\n",
    "\n",
    "    # Coordinates in decimal degrees (e.g. 2.89078, 12.79797)\n",
    "    #lon1, lat1 = coord1\n",
    "    #lon2, lat2 = coord2\n",
    "\n",
    "    R = 6371000  # radius of Earth in meters\n",
    "    phi_1 = math.radians(lat1)\n",
    "    phi_2 = math.radians(lat2)\n",
    "\n",
    "    delta_phi = math.radians(lat2 - lat1)\n",
    "    delta_lambda = math.radians(lon2 - lon1)\n",
    "\n",
    "    a = math.sin(delta_phi / 2.0) ** 2 + math.cos(phi_1) * math.cos(phi_2) * math.sin(delta_lambda / 2.0) ** 2\n",
    "    \n",
    "    c = 2 * math.atan2(math.sqrt(a), math.sqrt(1 - a))\n",
    "\n",
    "    meters = R * c  # output distance in meters\n",
    "    km = meters / 1000.0  # output distance in kilometers\n",
    "\n",
    "    meters = round(meters, 3)\n",
    "    km = round(km, 3)\n",
    "\n",
    "    return km\n"
   ]
  },
  {
   "cell_type": "code",
   "execution_count": 81,
   "id": "f76a6804",
   "metadata": {},
   "outputs": [
    {
     "data": {
      "text/plain": [
       "0        1.030764\n",
       "1        8.450134\n",
       "2        1.389525\n",
       "3        2.799270\n",
       "4        1.999157\n",
       "           ...   \n",
       "29995    0.722379\n",
       "29996    2.317561\n",
       "29997    5.968601\n",
       "29998    2.678930\n",
       "29999    1.662588\n",
       "Length: 30000, dtype: float64"
      ]
     },
     "execution_count": 81,
     "metadata": {},
     "output_type": "execute_result"
    }
   ],
   "source": [
    "# Apply to DF\n",
    "import math\n",
    "\n",
    "def hav_dist(lat1, lon1, lat2, lon2):\n",
    "    dLat = np.radians(lat2 - lat1)\n",
    "    dLon = np.radians(lon2 - lon1)\n",
    "    lat1 = np.radians(lat1)\n",
    "    lat2 = np.radians(lat2)\n",
    "    \n",
    "    a = (np.sin(dLat / 2) ** 2 + np.sin(dLon / 2) ** 2 * np.cos(lat1) * np.cos(lat2))\n",
    "    rad = 6371  # Earth's radius in kilometers\n",
    "    c = 2 * np.arcsin(np.sqrt(a))\n",
    "    \n",
    "    distance = rad * c\n",
    "    return distance\n",
    "\n",
    "\n",
    "\n",
    "distance = hav_dist(taxi_num['pickup_latitude'], \n",
    "                                 taxi_num['pickup_longitude'], \n",
    "                                 taxi_num['dropoff_latitude'], \n",
    "                                 taxi_num['dropoff_longitude'])\n",
    "\n",
    "distance"
   ]
  },
  {
   "cell_type": "code",
   "execution_count": 84,
   "id": "56b44a72",
   "metadata": {},
   "outputs": [
    {
     "data": {
      "text/html": [
       "<div>\n",
       "<style scoped>\n",
       "    .dataframe tbody tr th:only-of-type {\n",
       "        vertical-align: middle;\n",
       "    }\n",
       "\n",
       "    .dataframe tbody tr th {\n",
       "        vertical-align: top;\n",
       "    }\n",
       "\n",
       "    .dataframe thead th {\n",
       "        text-align: right;\n",
       "    }\n",
       "</style>\n",
       "<table border=\"1\" class=\"dataframe\">\n",
       "  <thead>\n",
       "    <tr style=\"text-align: right;\">\n",
       "      <th></th>\n",
       "      <th>fare_amount</th>\n",
       "      <th>pickup_longitude</th>\n",
       "      <th>pickup_latitude</th>\n",
       "      <th>dropoff_longitude</th>\n",
       "      <th>dropoff_latitude</th>\n",
       "      <th>passenger_count</th>\n",
       "      <th>distance</th>\n",
       "      <th>0</th>\n",
       "    </tr>\n",
       "  </thead>\n",
       "  <tbody>\n",
       "    <tr>\n",
       "      <th>0</th>\n",
       "      <td>4.5</td>\n",
       "      <td>-73.844311</td>\n",
       "      <td>40.721319</td>\n",
       "      <td>-73.841610</td>\n",
       "      <td>40.712278</td>\n",
       "      <td>1</td>\n",
       "      <td>1.030764</td>\n",
       "      <td>1.030764</td>\n",
       "    </tr>\n",
       "    <tr>\n",
       "      <th>1</th>\n",
       "      <td>16.9</td>\n",
       "      <td>-74.016048</td>\n",
       "      <td>40.711303</td>\n",
       "      <td>-73.979268</td>\n",
       "      <td>40.782004</td>\n",
       "      <td>1</td>\n",
       "      <td>8.450134</td>\n",
       "      <td>8.450134</td>\n",
       "    </tr>\n",
       "    <tr>\n",
       "      <th>2</th>\n",
       "      <td>5.7</td>\n",
       "      <td>-73.982738</td>\n",
       "      <td>40.761270</td>\n",
       "      <td>-73.991242</td>\n",
       "      <td>40.750562</td>\n",
       "      <td>2</td>\n",
       "      <td>1.389525</td>\n",
       "      <td>1.389525</td>\n",
       "    </tr>\n",
       "    <tr>\n",
       "      <th>3</th>\n",
       "      <td>7.7</td>\n",
       "      <td>-73.987130</td>\n",
       "      <td>40.733143</td>\n",
       "      <td>-73.991567</td>\n",
       "      <td>40.758092</td>\n",
       "      <td>1</td>\n",
       "      <td>2.799270</td>\n",
       "      <td>2.799270</td>\n",
       "    </tr>\n",
       "    <tr>\n",
       "      <th>4</th>\n",
       "      <td>5.3</td>\n",
       "      <td>-73.968095</td>\n",
       "      <td>40.768008</td>\n",
       "      <td>-73.956655</td>\n",
       "      <td>40.783762</td>\n",
       "      <td>1</td>\n",
       "      <td>1.999157</td>\n",
       "      <td>1.999157</td>\n",
       "    </tr>\n",
       "    <tr>\n",
       "      <th>...</th>\n",
       "      <td>...</td>\n",
       "      <td>...</td>\n",
       "      <td>...</td>\n",
       "      <td>...</td>\n",
       "      <td>...</td>\n",
       "      <td>...</td>\n",
       "      <td>...</td>\n",
       "      <td>...</td>\n",
       "    </tr>\n",
       "    <tr>\n",
       "      <th>29995</th>\n",
       "      <td>4.5</td>\n",
       "      <td>-73.991408</td>\n",
       "      <td>40.727064</td>\n",
       "      <td>-73.990996</td>\n",
       "      <td>40.733553</td>\n",
       "      <td>1</td>\n",
       "      <td>0.722379</td>\n",
       "      <td>0.722379</td>\n",
       "    </tr>\n",
       "    <tr>\n",
       "      <th>29996</th>\n",
       "      <td>8.1</td>\n",
       "      <td>-73.955678</td>\n",
       "      <td>40.782552</td>\n",
       "      <td>-73.979262</td>\n",
       "      <td>40.771807</td>\n",
       "      <td>5</td>\n",
       "      <td>2.317561</td>\n",
       "      <td>2.317561</td>\n",
       "    </tr>\n",
       "    <tr>\n",
       "      <th>29997</th>\n",
       "      <td>15.5</td>\n",
       "      <td>-73.982182</td>\n",
       "      <td>40.731252</td>\n",
       "      <td>-73.952945</td>\n",
       "      <td>40.780147</td>\n",
       "      <td>6</td>\n",
       "      <td>5.968601</td>\n",
       "      <td>5.968601</td>\n",
       "    </tr>\n",
       "    <tr>\n",
       "      <th>29998</th>\n",
       "      <td>7.3</td>\n",
       "      <td>-73.989976</td>\n",
       "      <td>40.762094</td>\n",
       "      <td>-74.005835</td>\n",
       "      <td>40.741211</td>\n",
       "      <td>1</td>\n",
       "      <td>2.678930</td>\n",
       "      <td>2.678930</td>\n",
       "    </tr>\n",
       "    <tr>\n",
       "      <th>29999</th>\n",
       "      <td>9.3</td>\n",
       "      <td>-73.963987</td>\n",
       "      <td>40.773680</td>\n",
       "      <td>-73.972325</td>\n",
       "      <td>40.760127</td>\n",
       "      <td>5</td>\n",
       "      <td>1.662588</td>\n",
       "      <td>1.662588</td>\n",
       "    </tr>\n",
       "  </tbody>\n",
       "</table>\n",
       "<p>30000 rows × 8 columns</p>\n",
       "</div>"
      ],
      "text/plain": [
       "       fare_amount  pickup_longitude  pickup_latitude  dropoff_longitude  \\\n",
       "0              4.5        -73.844311        40.721319         -73.841610   \n",
       "1             16.9        -74.016048        40.711303         -73.979268   \n",
       "2              5.7        -73.982738        40.761270         -73.991242   \n",
       "3              7.7        -73.987130        40.733143         -73.991567   \n",
       "4              5.3        -73.968095        40.768008         -73.956655   \n",
       "...            ...               ...              ...                ...   \n",
       "29995          4.5        -73.991408        40.727064         -73.990996   \n",
       "29996          8.1        -73.955678        40.782552         -73.979262   \n",
       "29997         15.5        -73.982182        40.731252         -73.952945   \n",
       "29998          7.3        -73.989976        40.762094         -74.005835   \n",
       "29999          9.3        -73.963987        40.773680         -73.972325   \n",
       "\n",
       "       dropoff_latitude  passenger_count  distance         0  \n",
       "0             40.712278                1  1.030764  1.030764  \n",
       "1             40.782004                1  8.450134  8.450134  \n",
       "2             40.750562                2  1.389525  1.389525  \n",
       "3             40.758092                1  2.799270  2.799270  \n",
       "4             40.783762                1  1.999157  1.999157  \n",
       "...                 ...              ...       ...       ...  \n",
       "29995         40.733553                1  0.722379  0.722379  \n",
       "29996         40.771807                5  2.317561  2.317561  \n",
       "29997         40.780147                6  5.968601  5.968601  \n",
       "29998         40.741211                1  2.678930  2.678930  \n",
       "29999         40.760127                5  1.662588  1.662588  \n",
       "\n",
       "[30000 rows x 8 columns]"
      ]
     },
     "execution_count": 84,
     "metadata": {},
     "output_type": "execute_result"
    }
   ],
   "source": [
    "# Now we should used the function that we created before to create a\n",
    "# Column that describes the total distance traveled\n",
    "\n",
    "taxi_train2 = pd.concat([taxi_num, distance], axis = 1)\n",
    "\n",
    "taxi_train2"
   ]
  },
  {
   "cell_type": "code",
   "execution_count": null,
   "id": "bafc0f63",
   "metadata": {},
   "outputs": [],
   "source": [
    "# We also would like to know more information about the time that these trips take place\n",
    "# Currently, they are in a format that is not all that useful to us"
   ]
  },
  {
   "cell_type": "code",
   "execution_count": 86,
   "id": "3127d854",
   "metadata": {},
   "outputs": [
    {
     "data": {
      "image/png": "[encoded data removed]",
      "text/plain": [
       "<Figure size 864x576 with 9 Axes>"
      ]
     },
     "metadata": {
      "needs_background": "light"
     },
     "output_type": "display_data"
    }
   ],
   "source": [
    "import matplotlib.pyplot as plt\n",
    "from pandas.plotting import scatter_matrix\n",
    "\n",
    "attributes = [\"distance\", \"passenger_count\",\n",
    "              \"fare_amount\"]\n",
    "scatter_matrix(taxi_train2[attributes], figsize=(12, 8))\n",
    "plt.show()"
   ]
  },
  {
   "cell_type": "code",
   "execution_count": null,
   "id": "553aca9f",
   "metadata": {},
   "outputs": [],
   "source": [
    "# Based on the look of the scatter matrix it seems like there is some scaling that needs to be done"
   ]
  },
  {
   "cell_type": "code",
   "execution_count": null,
   "id": "497383b7",
   "metadata": {},
   "outputs": [],
   "source": []
  },
  {
   "cell_type": "code",
   "execution_count": 100,
   "id": "567c990f",
   "metadata": {},
   "outputs": [
    {
     "ename": "NameError",
     "evalue": "name 'taxi_test2' is not defined",
     "output_type": "error",
     "traceback": [
      "\u001b[1;31m---------------------------------------------------------------------------\u001b[0m",
      "\u001b[1;31mNameError\u001b[0m                                 Traceback (most recent call last)",
      "\u001b[1;32m<ipython-input-100-0855f7880ed7>\u001b[0m in \u001b[0;36m<module>\u001b[1;34m\u001b[0m\n\u001b[0;32m      5\u001b[0m \u001b[0mX_train\u001b[0m\u001b[1;33m=\u001b[0m \u001b[0mtaxi_train2\u001b[0m\u001b[1;33m[\u001b[0m\u001b[1;33m[\u001b[0m\u001b[1;34m\"distance\"\u001b[0m\u001b[1;33m]\u001b[0m\u001b[1;33m]\u001b[0m\u001b[1;33m.\u001b[0m\u001b[0mvalues\u001b[0m\u001b[1;33m\u001b[0m\u001b[1;33m\u001b[0m\u001b[0m\n\u001b[0;32m      6\u001b[0m \u001b[0my_train\u001b[0m\u001b[1;33m=\u001b[0m \u001b[0mtaxi_train2\u001b[0m\u001b[1;33m[\u001b[0m\u001b[1;33m[\u001b[0m\u001b[1;34m\"fare_amount\"\u001b[0m\u001b[1;33m]\u001b[0m\u001b[1;33m]\u001b[0m\u001b[1;33m.\u001b[0m\u001b[0mvalues\u001b[0m\u001b[1;33m\u001b[0m\u001b[1;33m\u001b[0m\u001b[0m\n\u001b[1;32m----> 7\u001b[1;33m \u001b[0mX_test\u001b[0m\u001b[1;33m=\u001b[0m \u001b[0mtaxi_test2\u001b[0m\u001b[1;33m[\u001b[0m\u001b[1;33m[\u001b[0m\u001b[1;34m\"distance\"\u001b[0m\u001b[1;33m]\u001b[0m\u001b[1;33m]\u001b[0m\u001b[1;33m.\u001b[0m\u001b[0mvalues\u001b[0m\u001b[1;33m\u001b[0m\u001b[1;33m\u001b[0m\u001b[0m\n\u001b[0m\u001b[0;32m      8\u001b[0m \u001b[0my_test\u001b[0m\u001b[1;33m=\u001b[0m \u001b[0mtaxi_test2\u001b[0m\u001b[1;33m[\u001b[0m\u001b[1;33m[\u001b[0m\u001b[1;34m\"fare_amount\"\u001b[0m\u001b[1;33m]\u001b[0m\u001b[1;33m]\u001b[0m\u001b[1;33m.\u001b[0m\u001b[0mvalues\u001b[0m\u001b[1;33m\u001b[0m\u001b[1;33m\u001b[0m\u001b[0m\n\u001b[0;32m      9\u001b[0m \u001b[1;33m\u001b[0m\u001b[0m\n",
      "\u001b[1;31mNameError\u001b[0m: name 'taxi_test2' is not defined"
     ]
    }
   ],
   "source": [
    "# Linear Regressor\n",
    "\n",
    "lr = LinearRegression()\n",
    "\n",
    "X_train= taxi_train2[[\"distance\"]].values\n",
    "y_train= taxi_train2[[\"fare_amount\"]].values\n",
    "X_test= taxi_test2[[\"distance\"]].values\n",
    "y_test= taxi_test2[[\"fare_amount\"]].values\n",
    "\n",
    "lr.fit(X_train, y_train)\n",
    "y_pred = lr.predict(X_test)\n",
    "\n",
    "from sklearn.metrics import mean_squared_error\n",
    "\n",
    "print(\"Test RMSE: %.3f\" % mean_squared_error( y_test, y_pred) ** 0.5)"
   ]
  },
  {
   "cell_type": "code",
   "execution_count": null,
   "id": "fb4bf8d3",
   "metadata": {},
   "outputs": [],
   "source": [
    "# RandomForest Regression\n",
    "\n",
    "from sklearn.ensemble import RandomForestRegressor\n",
    "\n",
    "rf = RandomForestRegressor(max_depth=5, random_state=0, n_estimators=200)\n",
    "rf.fit(X_train, y_train.ravel())\n",
    "y_pred = rf.predict(X_test)\n",
    "\n",
    "print(\"Test RMSE: %.3f\" % mean_squared_error( y_test, y_pred) ** 0.5)"
   ]
  },
  {
   "cell_type": "code",
   "execution_count": 9,
   "id": "22f7a9ca",
   "metadata": {},
   "outputs": [],
   "source": [
    "# Results appear to be skewed due to the differences in scaling between features\n",
    "\n",
    "# Dealing with Datetime\n",
    "\n",
    "taxi_train['pickup_datetime'] = pd.to_datetime(taxi_train.pickup_datetime)\n",
    "taxi_test['pickup_datetime'] = pd.to_datetime(taxi_test.pickup_datetime)\n",
    "\n",
    "\n",
    "## We want to be able to work with daytime feature in a way that is useful"
   ]
  },
  {
   "cell_type": "code",
   "execution_count": 10,
   "id": "1350ffe8",
   "metadata": {},
   "outputs": [
    {
     "ename": "AttributeError",
     "evalue": "'Series' object has no attribute 'taxi_train'",
     "output_type": "error",
     "traceback": [
      "\u001b[1;31m---------------------------------------------------------------------------\u001b[0m",
      "\u001b[1;31mAttributeError\u001b[0m                            Traceback (most recent call last)",
      "\u001b[1;32m<ipython-input-10-8d2a5c13e895>\u001b[0m in \u001b[0;36m<module>\u001b[1;34m\u001b[0m\n\u001b[0;32m      1\u001b[0m \u001b[1;31m# Since there is a lot to be known from the time of pickup we need to separate information\u001b[0m\u001b[1;33m\u001b[0m\u001b[1;33m\u001b[0m\u001b[1;33m\u001b[0m\u001b[0m\n\u001b[0;32m      2\u001b[0m \u001b[1;33m\u001b[0m\u001b[0m\n\u001b[1;32m----> 3\u001b[1;33m \u001b[0mtaxi_train\u001b[0m\u001b[1;33m.\u001b[0m\u001b[0mloc\u001b[0m\u001b[1;33m[\u001b[0m\u001b[1;33m:\u001b[0m\u001b[1;33m,\u001b[0m \u001b[1;34m'pickup_hour'\u001b[0m\u001b[1;33m]\u001b[0m \u001b[1;33m=\u001b[0m \u001b[0mtaxi_train\u001b[0m\u001b[1;33m[\u001b[0m\u001b[1;34m'pickup_datetime'\u001b[0m\u001b[1;33m]\u001b[0m\u001b[1;33m.\u001b[0m\u001b[0mtaxi_train\u001b[0m\u001b[1;33m.\u001b[0m\u001b[0mhour\u001b[0m\u001b[1;33m\u001b[0m\u001b[1;33m\u001b[0m\u001b[0m\n\u001b[0m\u001b[0;32m      4\u001b[0m \u001b[0mtaxi_train\u001b[0m\u001b[1;33m.\u001b[0m\u001b[0mloc\u001b[0m\u001b[1;33m[\u001b[0m\u001b[1;33m:\u001b[0m\u001b[1;33m,\u001b[0m \u001b[1;34m'pickup_weekday'\u001b[0m\u001b[1;33m]\u001b[0m \u001b[1;33m=\u001b[0m \u001b[0mtaxi_train\u001b[0m\u001b[1;33m[\u001b[0m\u001b[1;34m'pickup_datetime'\u001b[0m\u001b[1;33m]\u001b[0m\u001b[1;33m.\u001b[0m\u001b[0mtaxi_train\u001b[0m\u001b[1;33m.\u001b[0m\u001b[0mday_name\u001b[0m\u001b[1;33m(\u001b[0m\u001b[1;33m)\u001b[0m\u001b[1;33m\u001b[0m\u001b[1;33m\u001b[0m\u001b[0m\n\u001b[0;32m      5\u001b[0m \u001b[0mtaxi_train\u001b[0m\u001b[1;33m.\u001b[0m\u001b[0mloc\u001b[0m\u001b[1;33m[\u001b[0m\u001b[1;33m:\u001b[0m\u001b[1;33m,\u001b[0m \u001b[1;34m'pickup_date'\u001b[0m\u001b[1;33m]\u001b[0m \u001b[1;33m=\u001b[0m \u001b[0mtaxi_train\u001b[0m\u001b[1;33m[\u001b[0m\u001b[1;34m'pickup_datetime'\u001b[0m\u001b[1;33m]\u001b[0m\u001b[1;33m.\u001b[0m\u001b[0mdtaxi_train\u001b[0m\u001b[1;33m.\u001b[0m\u001b[0mday\u001b[0m\u001b[1;33m\u001b[0m\u001b[1;33m\u001b[0m\u001b[0m\n",
      "\u001b[1;32m~\\anaconda3\\lib\\site-packages\\pandas\\core\\generic.py\u001b[0m in \u001b[0;36m__getattr__\u001b[1;34m(self, name)\u001b[0m\n\u001b[0;32m   5463\u001b[0m             \u001b[1;32mif\u001b[0m \u001b[0mself\u001b[0m\u001b[1;33m.\u001b[0m\u001b[0m_info_axis\u001b[0m\u001b[1;33m.\u001b[0m\u001b[0m_can_hold_identifiers_and_holds_name\u001b[0m\u001b[1;33m(\u001b[0m\u001b[0mname\u001b[0m\u001b[1;33m)\u001b[0m\u001b[1;33m:\u001b[0m\u001b[1;33m\u001b[0m\u001b[1;33m\u001b[0m\u001b[0m\n\u001b[0;32m   5464\u001b[0m                 \u001b[1;32mreturn\u001b[0m \u001b[0mself\u001b[0m\u001b[1;33m[\u001b[0m\u001b[0mname\u001b[0m\u001b[1;33m]\u001b[0m\u001b[1;33m\u001b[0m\u001b[1;33m\u001b[0m\u001b[0m\n\u001b[1;32m-> 5465\u001b[1;33m             \u001b[1;32mreturn\u001b[0m \u001b[0mobject\u001b[0m\u001b[1;33m.\u001b[0m\u001b[0m__getattribute__\u001b[0m\u001b[1;33m(\u001b[0m\u001b[0mself\u001b[0m\u001b[1;33m,\u001b[0m \u001b[0mname\u001b[0m\u001b[1;33m)\u001b[0m\u001b[1;33m\u001b[0m\u001b[1;33m\u001b[0m\u001b[0m\n\u001b[0m\u001b[0;32m   5466\u001b[0m \u001b[1;33m\u001b[0m\u001b[0m\n\u001b[0;32m   5467\u001b[0m     \u001b[1;32mdef\u001b[0m \u001b[0m__setattr__\u001b[0m\u001b[1;33m(\u001b[0m\u001b[0mself\u001b[0m\u001b[1;33m,\u001b[0m \u001b[0mname\u001b[0m\u001b[1;33m:\u001b[0m \u001b[0mstr\u001b[0m\u001b[1;33m,\u001b[0m \u001b[0mvalue\u001b[0m\u001b[1;33m)\u001b[0m \u001b[1;33m->\u001b[0m \u001b[1;32mNone\u001b[0m\u001b[1;33m:\u001b[0m\u001b[1;33m\u001b[0m\u001b[1;33m\u001b[0m\u001b[0m\n",
      "\u001b[1;31mAttributeError\u001b[0m: 'Series' object has no attribute 'taxi_train'"
     ]
    }
   ],
   "source": [
    "# Since there is a lot to be known from the time of pickup we need to separate information\n",
    "\n",
    "# Incomplete\n",
    "\n",
    "taxi_train.loc[:, 'pickup_hour'] = taxi_train['pickup_datetime'].taxi_train.hour\n",
    "taxi_train.loc[:, 'pickup_weekday'] = taxi_train['pickup_datetime'].taxi_train.day_name()\n",
    "taxi_train.loc[:, 'pickup_date'] = taxi_train['pickup_datetime'].dtaxi_train.day\n",
    "taxi_train.loc[:, 'pickup_month'] = taxi_train['pickup_datetime'].taxi_train.month\n",
    "taxi_train.loc[:, 'pickup_day'] = taxi_train['pickup_datetime'].taxi_train.dayofweek\n",
    "taxi_test.loc[:, 'pickup_hour'] = taxi_test['pickup_datetime'].taxi_train.hour\n",
    "taxi_test.loc[:, 'pickup_weekday'] = taxi_test['pickup_datetime'].taxi_train.day_name()\n",
    "taxi_test.loc[:, 'pickup_date'] = taxi_test['pickup_datetime'].taxi_train.day\n",
    "taxi_test.loc[:, 'pickup_month'] = taxi_test['pickup_datetime'].taxi_train.month\n",
    "taxi_test.loc[:, 'pickup_day'] = taxi_test['pickup_datetime'].taxi_train.dayofweek"
   ]
  },
  {
   "cell_type": "code",
   "execution_count": null,
   "id": "75d34b42",
   "metadata": {},
   "outputs": [],
   "source": []
  },
  {
   "cell_type": "code",
   "execution_count": null,
   "id": "170c5ec1",
   "metadata": {},
   "outputs": [],
   "source": [
    "# Resources Used Along the Way Include:\n",
    "\n",
    "\n",
    "# Calculating distance using the Haversine Formula: https://community.esri.com/t5/coordinate-reference-systems-blog/distance-on-a-sphere-the-haversine-formula/ba-p/902128#:~:text=All%20of%20these%20can%20be,longitude%20of%20the%20two%20points.\n",
    "\n",
    "# Done:\n",
    "\n",
    "1. LR\n",
    "2. RF\n",
    "\n",
    "# NTD:\n",
    "\n",
    "1. seperate date time so that it is a useful format, \n",
    "2. Presentation"
   ]
  }
 ],
 "metadata": {
  "kernelspec": {
   "display_name": "Python 3",
   "language": "python",
   "name": "python3"
  },
  "language_info": {
   "codemirror_mode": {
    "name": "ipython",
    "version": 3
   },
   "file_extension": ".py",
   "mimetype": "text/x-python",
   "name": "python",
   "nbconvert_exporter": "python",
   "pygments_lexer": "ipython3",
   "version": "3.8.8"
  }
 },
 "nbformat": 4,
 "nbformat_minor": 5
}
